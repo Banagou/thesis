{
  "nbformat": 4,
  "nbformat_minor": 0,
  "metadata": {
    "colab": {
      "name": "MasterThesis.ipynb",
      "provenance": [],
      "collapsed_sections": []
    },
    "kernelspec": {
      "name": "python3",
      "display_name": "Python 3"
    }
  },
  "cells": [
    {
      "cell_type": "markdown",
      "metadata": {
        "id": "7xAqHK3KmIc8",
        "colab_type": "text"
      },
      "source": [
        "#Master Thesis Maria Banagou; Investigating the effect of emotional shift on pitch performance: insights from a data-driven facial expression video analysis"
      ]
    },
    {
      "cell_type": "code",
      "metadata": {
        "id": "9yGbrUC9u8OD",
        "colab_type": "code",
        "cellView": "form",
        "colab": {}
      },
      "source": [
        "#@title Libraries\n",
        "from os import listdir\n",
        "from os.path import isfile, join\n",
        "import random\n",
        "import numpy as np\n",
        "import pandas as pd\n",
        "from keras.preprocessing import sequence\n",
        "import matplotlib.pyplot as plt\n",
        "from matplotlib.pyplot import figure\n",
        "import matplotlib\n",
        "from sklearn.model_selection import train_test_split\n",
        "from sklearn.utils import resample\n",
        "from sklearn.metrics import confusion_matrix,f1_score\n",
        "from tensorflow.keras import Sequential\n",
        "from tensorflow.keras.layers import LSTM, Dense, Input, Conv2D, MaxPooling2D, Dropout, Dense, Reshape, LSTM\n",
        "from tensorflow.keras.callbacks import ModelCheckpoint\n",
        "from tensorflow.keras.optimizers import Adam\n",
        "from tensorflow.keras.layers import LSTM, Dense, Dropout\n",
        "from tensorflow.keras.wrappers.scikit_learn import KerasClassifier\n",
        "from sklearn.model_selection import GridSearchCV, StratifiedKFold\n",
        "from tensorflow.keras.callbacks import ModelCheckpoint\n",
        "from sklearn.metrics import confusion_matrix,f1_score\n",
        "from sklearn.linear_model import LogisticRegression\n",
        "from sklearn.metrics import confusion_matrix, f1_score\n",
        "from sklearn.ensemble import RandomForestClassifier\n",
        "from statsmodels.sandbox.stats.multicomp import multipletests\n",
        "from statistics import mean\n",
        "from scipy import stats\n",
        "import statsmodels.api as sm\n",
        "from sklearn.preprocessing import StandardScaler\n",
        "from sklearn import metrics"
      ],
      "execution_count": 0,
      "outputs": []
    },
    {
      "cell_type": "markdown",
      "metadata": {
        "id": "Ezq3ZUQBmWLO",
        "colab_type": "text"
      },
      "source": [
        "##Load data"
      ]
    },
    {
      "cell_type": "code",
      "metadata": {
        "id": "Nzppc-Ill9ZW",
        "colab_type": "code",
        "cellView": "form",
        "colab": {}
      },
      "source": [
        "#@title #Load survey data - performance scores\n",
        "#Load the files\n",
        "df2018= pd.read_excel('Startups1819_evaluations+rankings_allinvestors.xlsx')\n",
        "df2019_1= pd.read_excel('Startups1920_1_evaluations+rankings_allinvestors.xlsx')\n",
        "df2019_2= pd.read_excel('Startups1920_2_evaluations+rankings_allinvestors.xlsx')\n",
        "df2019_DEIA= pd.read_excel('DEiAIII1920_SM1_evaluations+rankings_allinvestors.xlsx')\n",
        "\n",
        "#Make a function that returns dictionary with the pitch and the mean score of perfromance \n",
        "def get_mean_scores(data):\n",
        "  probinv =  []\n",
        "  quality = []\n",
        "  probsuc = []\n",
        "  pitch = []\n",
        "  names_y = ['probinv', 'quality', 'probsuc', 'pitch']\n",
        "  for j in names_y:\n",
        "    for i in range(1,len(data[j]),3):\n",
        "      if j == 'probinv':\n",
        "        probinv.append(data[j][i:i+3].mean())\n",
        "      if j == 'quality':\n",
        "        quality.append(data[j][i:i+3].mean())\n",
        "      if j == 'probsuc': \n",
        "        probsuc.append(data[j][i:i+3].mean())\n",
        "      if j == 'pitch':\n",
        "        pitch.append(data[j][i])\n",
        "  pitch_probinv = dict(zip(pitch, probinv))\n",
        "  pitch_quality = dict(zip(pitch, quality))\n",
        "  pitch_probsuc = dict(zip(pitch, probsuc))\n",
        "  return(pitch_probinv, pitch_quality, pitch_probsuc)\n",
        "\n",
        "#variables of the scores for all the files\n",
        "df2018_probinv, df2018_quality, df2018_probsuc = get_mean_scores(df2018)\n",
        "df2019_1_probinv, df2019_1_quality, df2019_1_probsuc = get_mean_scores(df2019_1)  \n",
        "df2019_2_probinv, df2019_2_quality, df2019_2_probsuc = get_mean_scores(df2019_2) \n",
        "df2019_DEIA_probinv, df2019_DEIA_quality, df2019_DEIA_probsuc = get_mean_scores(df2019_DEIA)   \n",
        "\n",
        "#Make a dictionary with all the pitches per variable(probability to invest, quality, probability success)\n",
        "dfall_probinv = {}\n",
        "for d in [df2018_probinv, df2019_1_probinv, df2019_2_probinv, df2019_DEIA_probinv]:\n",
        "  dfall_probinv.update(d)\n",
        "\n",
        "dfall_quality = {}\n",
        "for d in [df2018_quality, df2019_1_quality, df2019_2_quality, df2019_DEIA_quality]:\n",
        "  dfall_quality.update(d)\n",
        "\n",
        "dfall_probsuc = {}\n",
        "for d in [df2018_probsuc, df2019_1_probsuc, df2019_2_probsuc, df2019_DEIA_probsuc]:\n",
        "  dfall_probsuc.update(d)\n",
        "\n",
        "#The order is the same as in pitch data\n",
        "pitches_order = ['Little Sister', 'FLIPR', 'Bubble Pop', 'RecognEyes', 'HOTIDY', 'FitPoint', 'SOLON', 'Ziggurat', 'PREA', 'Young Boosters', 'Whitebox', 'Soccer Academy', 'StudentFood', 'HoodFood', 'wAIste', 'Choos3 Wisely', 'LockUp', 'FindIT', 'SmArt', 'Peech', 'Ar-T-ficial', 'tAIste', 'Salix', 'Recipe-Me', 'Chattern']\n",
        "\n",
        "#Take lists of scores in order as pitch data\n",
        "scores_probinv = []\n",
        "for i in pitches_order:\n",
        "  scores_probinv.append(dfall_probinv.get(i))\n",
        "\n",
        "scores_quality = []\n",
        "for i in pitches_order:\n",
        "  scores_quality.append(dfall_quality.get(i))\n",
        "\n",
        "scores_probsuc = []\n",
        "for i in pitches_order:\n",
        "  scores_probsuc.append(dfall_probsuc.get(i))\n",
        "\n",
        "#make the path to data file\n",
        "#np.save('scores_probinb', scores_probinv)\n",
        "#np.save('scores_quality',scores_quality)\n",
        "#np.save('scores_probsuc', scores_probsuc)"
      ],
      "execution_count": 0,
      "outputs": []
    },
    {
      "cell_type": "code",
      "metadata": {
        "id": "pK6ZuLhWtdAb",
        "colab_type": "code",
        "cellView": "form",
        "colab": {}
      },
      "source": [
        "#@title #Load pitch data\n",
        "#make a list with the names of cvs files\n",
        "\n",
        "files_pitch = [f for f in listdir(\".\") if isfile(join(\".\", f))]\n",
        "\n",
        "#load the pitch data\n",
        "datapitch = []\n",
        "for i in files_pitch:\n",
        "  datapitch.append(np.genfromtxt((i), skip_header=1, delimiter = ','))\n",
        "datapitch = np.asarray(datapitch)\n",
        "\n",
        "print(datapitch.shape)\n",
        "\n",
        "#Let's have a look into the shapes of the data \n",
        "for i in range(datapitch.shape[0]):\n",
        "  print(datapitch[i].shape)\n",
        "#Get the index of confidence and success\n",
        "import pandas as pd\n",
        "check_p = pd.read_csv(files_pitch[0]) \n",
        "names_p = list(check_p.columns)\n",
        "conf_ind_p = names_p.index(' confidence')\n",
        "success_ind_p = names_p.index(' success')\n",
        "\n",
        "#clean data, if confidence <90 or confidence is nan or success ==0 then delete\n",
        "#note that if success == 1 then confidence is >90. But I keep it in the code as sanity check\n",
        "for i in range(datapitch.shape[0]):\n",
        "  x= []\n",
        "  for j in range(datapitch[i].shape[0]):\n",
        "    if datapitch[i][j,conf_ind_p]<0.90 or np.isnan(datapitch[i][j,conf_ind_p]) or datapitch[i][j,success_ind_p] == 0:\n",
        "      x.append(j)\n",
        "  datapitch[i]= np.delete(datapitch[i],x,0) \n",
        "\n",
        "#This function converts minutes into seconds\n",
        "#It will be used to split the video into pitch and q_a\n",
        "def count_sec(x):\n",
        "  return (int(x) *60)+ (x- int(x))\n",
        "#This list state the minute in which the pitch ends, the values were obtained by watching the video\n",
        "#the values are listed in the same order as in files_pitch\n",
        "minute = [3.33,3.15,5.38,3.26,3.15,3.25,5.30,3.22, 4.41, 2.49, 3.23, 5.08, 2.31, 3.03, 3.11, 2.59, 3.57, 3.38, 3.00, 4.17, 3.07, 4.43, 3.04, 9.23, 3.16]\n",
        "\n",
        "#split the dataset into pitch and q_a \n",
        "pitch = []\n",
        "q_a = []\n",
        "for i in range(datapitch.shape[0]):\n",
        "    pitch.append(datapitch[i][[np.where(datapitch[i][:,2]<=count_sec(minute[i]))]])\n",
        "    q_a.append(datapitch[i][[np.where(datapitch[i][:,2]>count_sec(minute[i]))]])\n",
        "\n",
        "for i in range(len(pitch)):\n",
        "  pitch[i]= pitch[i].reshape(pitch[i].shape[1], pitch[i].shape[2])\n",
        "  q_a[i]= q_a[i].reshape(q_a[i].shape[1], q_a[i].shape[2])\n",
        "\n",
        "pitch= np.asarray(pitch)\n",
        "q_a= np.asarray(q_a)\n",
        "\n",
        "#let's have a look into the shapes of the data \n",
        "for i in range(pitch.shape[0]):\n",
        "  print(pitch[i].shape,q_a[i].shape)\n",
        "\n",
        "#keep only the au \n",
        "for i in range(pitch.shape[0]):\n",
        "  pitch[i] = pitch[i][:,679:]\n",
        "  q_a[i] = q_a[i][:,679:]\n",
        "\n",
        "\n",
        "\n",
        "#reshape the data to be in allignment with the way we have trained the data\n",
        "for i in range(pitch.shape[0]):\n",
        "  pitch[i]= pitch[i][:int(pitch[i].shape[0]/90)*90,:]\n",
        "  q_a[i]= q_a[i][:int(q_a[i].shape[0]/90)*90,:]\n",
        "  pitch[i]= pitch[i].reshape(int(pitch[i].shape[0]/90),90,35)\n",
        "  q_a[i]= q_a[i].reshape(int(q_a[i].shape[0]/90),90,35)\n",
        "\n",
        "#np.save(\"pitch\", pitch)\n",
        "#np.save(\"q_a\", q_a)"
      ],
      "execution_count": 0,
      "outputs": []
    },
    {
      "cell_type": "code",
      "metadata": {
        "id": "-pbsI_X9r1WO",
        "colab_type": "code",
        "cellView": "form",
        "colab": {}
      },
      "source": [
        "#@title # load test data (BAUM)\n",
        "#make a list with the names of cvs files\n",
        "\n",
        "files_test_t = [f for f in listdir(\".\") if isfile(join(\".\", f))]\n",
        "del files_test_t[files_test_t.index('Annotations_BAUM1s.xlsx')]\n",
        "\n",
        "#import numpy as np\n",
        "#load the data\n",
        "data_test_t = []\n",
        "for i in files_test_t:\n",
        "  data_test_t.append(np.genfromtxt((i),skip_header=1, delimiter = ','))\n",
        "\n",
        "data_test_cl_t = np.asarray(data_test_t)\n",
        "\n",
        "\n",
        "import pandas as pd\n",
        "check = pd.read_csv(files_test_t[0]) \n",
        "names_t = list(check.columns)\n",
        "conf_ind_t = names_t.index(' confidence')\n",
        "\n",
        "#delete observations that have confidence less than 90%\n",
        "for i in range(data_test_cl_t.shape[0]):\n",
        "  x= []\n",
        "  for j in range(data_test_cl_t[i].shape[0]):\n",
        "    if data_test_cl_t[i][j,conf_ind_t]<0.90 or np.isnan(data_test_cl_t[i][j,conf_ind_t]):\n",
        "      x.append(j)\n",
        "  data_test_cl_t[i]= np.delete(data_test_cl_t[i],x,0)\n",
        "\n",
        "#keep observations that have lenght> 88 \n",
        "shape_test= []\n",
        "for i in range(len(data_test_cl_t)):\n",
        "  shape_test.append(data_test_cl_t[i].shape[0])\n",
        "shape_test= np.array(shape_test)\n",
        "data_test_cl_t = data_test_cl_t[(shape_test>=88)]\n",
        "\n",
        "#delete raws after maxlen = 90\n",
        "from keras.preprocessing import sequence\n",
        "maxlen = 90\n",
        "data_test_cl1_t = sequence.pad_sequences(data_test_cl_t, maxlen=maxlen, dtype = \"float64\")\n",
        "\n",
        "#keep only the 35 action units \n",
        "test_data_t_f = data_test_cl1_t[:,:,679:]\n",
        "\n",
        "#np.save('test_data_t_f', test_data_t_f)\n",
        "#np.save('test_data_t_fs', test_data_t_f)"
      ],
      "execution_count": 0,
      "outputs": []
    },
    {
      "cell_type": "code",
      "metadata": {
        "id": "4zAf2kOL06di",
        "colab_type": "code",
        "cellView": "form",
        "colab": {}
      },
      "source": [
        "#@title # load test labels (BAUM)\n",
        "files_test_t = np.array(files_test_t)[(shape_test>=88)]\n",
        "#import pandas as pd\n",
        "#load annotations\n",
        "Annotations = pd.read_excel(\"Annotations_BAUM1s.xlsx\") \n",
        "#take only the columns Clip Name ,  Emotion Code \n",
        "names_emotions = Annotations[[\"Clip Name\", \"Emotion Code\"]].to_numpy()\n",
        "#delete the cvs part from files_test names\n",
        "names_test = np.array([x.split('.')[0] for x in files_test_t])\n",
        "#take the labels\n",
        "labs = []\n",
        "for i in names_test:\n",
        "  label = names_emotions[np.where(names_emotions[:,0] == i), 1][0]\n",
        "  labs.append(label[0])\n",
        "labels_bin_test_t = (np.asarray(labs) == 8).astype(\"int32\").reshape((labels_test_t.shape[0],1))\n",
        "print(np.unique(labels_bin_test_t, return_counts=True))\n",
        "#np.save('labels_test_ts',labels_bin_test_t)"
      ],
      "execution_count": 0,
      "outputs": []
    },
    {
      "cell_type": "code",
      "metadata": {
        "id": "tkywlAgsA7Md",
        "colab_type": "code",
        "cellView": "form",
        "colab": {}
      },
      "source": [
        "#@title # balance test data\n",
        "lab0= np.where(labels_bin_test_t==0)[0]\n",
        "\n",
        "random.seed( 30 )\n",
        "ind_delete = random.sample(lab0.tolist(),16)\n",
        "labels_test = np.delete(labels_bin_test_t,ind_delete,0)\n",
        "print(np.unique(labels_test, return_counts=True))\n",
        "x_test = np.delete(test_data_t_f,ind_delete, 0)\n",
        "#make the path \n",
        "#np.save('labels_test', labels_test)\n",
        "#np.save('x_test', x_test)"
      ],
      "execution_count": 0,
      "outputs": []
    },
    {
      "cell_type": "code",
      "metadata": {
        "id": "akjh2Uk7KDB8",
        "colab_type": "code",
        "cellView": "form",
        "outputId": "61cc4b9d-0801-47db-8a68-d66d16d41658",
        "colab": {
          "base_uri": "https://localhost:8080/",
          "height": 70
        }
      },
      "source": [
        "#@title # load labels of RAVDNESS \n",
        "\n",
        "#get the labels of the data\n",
        "\n",
        "\n",
        "files = [f for f in listdir(\".\") if isfile(join(\".\", f))]\n",
        "labels = np.array([files[x].split(\"-\")[2] for x in range(len(files))])\n",
        "\n",
        "labels_in = labels.astype(int)\n",
        "labels_bin = (labels_in == 3).astype(\"int32\").reshape((2452,1))\n",
        "print(labels_bin.shape)\n",
        "#see how many obs per label\n",
        "print(set(labels))\n",
        "[np.sum(labels == i) for i in set(labels)]\n",
        "#save labels_bin numpy in data file\n",
        "\n",
        "#np.save(\"labels_bin\", labels_bin)"
      ],
      "execution_count": 0,
      "outputs": [
        {
          "output_type": "stream",
          "text": [
            "(2452, 1)\n",
            "{'08', '02', '05', '07', '01', '06', '04', '03'}\n"
          ],
          "name": "stdout"
        },
        {
          "output_type": "execute_result",
          "data": {
            "text/plain": [
              "[192, 376, 376, 192, 188, 376, 376, 376]"
            ]
          },
          "metadata": {
            "tags": []
          },
          "execution_count": 4
        }
      ]
    },
    {
      "cell_type": "code",
      "metadata": {
        "id": "JgLzJGHIK8H8",
        "colab_type": "code",
        "cellView": "form",
        "outputId": "efa5209c-44ae-4458-85af-f938d148a32a",
        "colab": {
          "base_uri": "https://localhost:8080/",
          "height": 125
        }
      },
      "source": [
        "#@title # load data RAVDNESS\n",
        "\n",
        "data = []\n",
        "for i in files:\n",
        "  data.append(np.genfromtxt((i), skip_header=1, delimiter = ','))\n",
        "data = np.asarray(data)\n",
        "\n",
        "#check the shape of each array\n",
        "shape0= []\n",
        "for i in range(data.shape[0]):\n",
        "  shape0.append(data[i].shape[0])\n",
        "print(min(shape0))\n",
        "\n",
        "# find the index of confidence variable \n",
        "import pandas as pd\n",
        "check = pd.read_csv(files[0]) \n",
        "names = list(check.columns)\n",
        "conf_ind = names.index('confidence')\n",
        "\n",
        "#delete observations that have confidence less than 90%\n",
        "for i in range(data.shape[0]):\n",
        "  x= []\n",
        "  for j in range(data[i].shape[0]):\n",
        "    if data[i][j,conf_ind]<0.90 or np.isnan(data[i][j,conf_ind]):\n",
        "      x.append(j)\n",
        "  data[i]= np.delete(data[i],x,0)\n",
        "\n",
        "#check the shape of the clean data \n",
        "#and whether the min is different (it's not)\n",
        "shape= []\n",
        "for i in range(data.shape[0]):\n",
        "  shape.append(data[i].shape[0])\n",
        "print(min(shape))\n",
        "\n",
        "#check if the shapes before and after cleaning are the same \n",
        "print(shape== shape0)\n",
        "      \n",
        "#see how many and which observations were deleted \n",
        "c= 0 \n",
        "x= []\n",
        "for i in range(len(shape)):\n",
        "  if shape[i] != shape0[i]:\n",
        "    c+=1\n",
        "    x.append(i)\n",
        "print(c,x)\n",
        "\n",
        "#keep only the auction units\n",
        "data_au= []\n",
        "for i in range(data.shape[0]):\n",
        "  data_au.append(data[i][:,677:])\n",
        "data_au= np.asarray(data_au)\n",
        "\n",
        "#pad the sequences\n",
        "\n",
        "maxlen = 90\n",
        "data_cl90 = sequence.pad_sequences(data_au, maxlen=maxlen, dtype = \"float64\")\n",
        "\n",
        "#np.save(\"data_cl90_conf\", data_cl90)"
      ],
      "execution_count": 0,
      "outputs": [
        {
          "output_type": "stream",
          "text": [
            "88\n",
            "88\n",
            "False\n",
            "100 [85, 94, 108, 114, 115, 122, 153, 161, 177, 182, 183, 184, 193, 194, 202, 205, 206, 207, 217, 218, 223, 225, 229, 230, 232, 240, 241, 246, 251, 263, 264, 367, 379, 387, 402, 406, 410, 425, 452, 545, 614, 679, 721, 802, 813, 914, 986, 991, 992, 1016, 1033, 1034, 1051, 1057, 1058, 1064, 1076, 1184, 1205, 1439, 1444, 1457, 1524, 1527, 1528, 1529, 1537, 1541, 1546, 1548, 1551, 1552, 1553, 1554, 1560, 1564, 1565, 1570, 1575, 1577, 1578, 1579, 1580, 1588, 1594, 1601, 1602, 1714, 1721, 1733, 1805, 1970, 2063, 2090, 2101, 2123, 2125, 2177, 2264, 2273]\n"
          ],
          "name": "stdout"
        },
        {
          "output_type": "stream",
          "text": [
            "Using TensorFlow backend.\n"
          ],
          "name": "stderr"
        }
      ]
    },
    {
      "cell_type": "code",
      "metadata": {
        "id": "-4zUZgk4llp9",
        "colab_type": "code",
        "outputId": "7cabe928-2e4f-4372-83bb-766e434908a1",
        "cellView": "form",
        "colab": {
          "base_uri": "https://localhost:8080/",
          "height": 87
        }
      },
      "source": [
        "#@title load all the data from directory as numpy \n",
        "\n",
        "\n",
        "test_data = np.load(\"x_test.npy\", allow_pickle= True)\n",
        "labels_test = np.load(\"labels_test.npy\", allow_pickle= True)\n",
        "labels_tr = np.load(\"labels_bin.npy\", allow_pickle= True)\n",
        "train_data = np.load(\"data_cl90_conf.npy\", allow_pickle= True)\n",
        "pitch_data = np.load(\"pitch.npy\", allow_pickle= True)\n",
        "q_a_data = np.load(\"q_a.npy\", allow_pickle= True)\n",
        "scores_probinv = np.load('scores_probinb.npy', allow_pickle =True)\n",
        "scores_quality = np.load('scores_quality.npy', allow_pickle = True)\n",
        "scores_probsuc = np.load('scores_probsuc.npy',allow_pickle = True)\n",
        "\n",
        "print(\"test data and labels shape: \", test_data.shape, labels_test.shape, '\\ntrain data and labels shape', train_data.shape, labels_tr.shape,'\\npitch and q&a data shape', pitch_data.shape, q_a_data.shape, '\\nperformance scores shape', scores_probinv.shape, scores_quality.shape, scores_probsuc.shape)\n"
      ],
      "execution_count": 0,
      "outputs": [
        {
          "output_type": "stream",
          "text": [
            "test data and labels shape:  (166, 90, 35) (166, 1) \n",
            "train data and labels shape (2452, 90, 35) (2452, 1) \n",
            "pitch and q&a data shape (25,) (25,) \n",
            "performance scores shape (25,) (25,) (25,)\n"
          ],
          "name": "stdout"
        }
      ]
    },
    {
      "cell_type": "markdown",
      "metadata": {
        "id": "etV1Zjf0milT",
        "colab_type": "text"
      },
      "source": [
        "##EDA"
      ]
    },
    {
      "cell_type": "code",
      "metadata": {
        "id": "ZpULplfXe4Ps",
        "colab_type": "code",
        "cellView": "form",
        "outputId": "c4c219a9-89d0-4a95-9e39-ebad996dc5f4",
        "colab": {
          "base_uri": "https://localhost:8080/",
          "height": 34
        }
      },
      "source": [
        "#@title Prepare data for plots \n",
        "#Training data \n",
        "not_h_17 = train_data[labels_tr.squeeze() == 0,:,:17].mean(axis=1).mean(axis=0)\n",
        "not_h_18 = train_data[labels_tr.squeeze() == 0,:,17:].mean(axis=1).mean(axis=0)\n",
        "happy_17 = train_data[labels_tr.squeeze() == 1,:,:17].mean(axis =1).mean(axis =0)\n",
        "happy_18 = train_data[labels_tr.squeeze() == 1,:,17:].mean(axis =1).mean(axis =0)\n",
        "\n",
        "#Test data\n",
        "not_h_17_t= test_data[labels_test.squeeze() == 0,:,:17].mean(axis=1).mean(axis=0)\n",
        "not_h_18_t = test_data[labels_test.squeeze() == 0,:,17:].mean(axis=1).mean(axis=0)\n",
        "happy_17_t = test_data[labels_test.squeeze() == 1,:,:17].mean(axis =1).mean(axis =0)\n",
        "happy_18_t = test_data[labels_test.squeeze() == 1,:,17:].mean(axis =1).mean(axis =0)\n",
        "\n",
        "#prepare the pitch and q&a data for plots; mean auction units per group(pitch and q&a)\n",
        "#pitch\n",
        "x= []\n",
        "for i in range(len(pitch_data)):\n",
        "  x.append(pitch_data[i].mean(axis=1).mean(axis =0))\n",
        "pitch_plot = np.array(x).mean(axis=0)\n",
        "\n",
        "#q&a\n",
        "x= []\n",
        "for i in range(len(q_a_data)):\n",
        "  x.append(q_a_data[i].mean(axis=1).mean(axis =0))\n",
        "q_a_plot = np.array(x).mean(axis=0)\n",
        "\n",
        "#Descriptives statistics of probabilty to invest \n",
        "print(scores_probinv.max(),scores_probinv.min(),scores_probinv.mean(),scores_probinv.std())\n"
      ],
      "execution_count": 0,
      "outputs": [
        {
          "output_type": "stream",
          "text": [
            "71.66666666666667 1.6666666666666667 32.15277777777778 18.661700521603724\n"
          ],
          "name": "stdout"
        }
      ]
    },
    {
      "cell_type": "code",
      "metadata": {
        "id": "vNizjqxBt3K-",
        "colab_type": "code",
        "cellView": "form",
        "outputId": "ad66499e-7444-4128-d838-3781e8d21def",
        "colab": {
          "base_uri": "https://localhost:8080/",
          "height": 1000
        }
      },
      "source": [
        "#@title plots\n",
        "\n",
        "\n",
        "\n",
        "#Plot happy vs not happy for the insensity of the 17 auction units RAVDNESS\n",
        "#plt.title('Plot happy vs not happy for insensity of the 17 auction units')\n",
        "X =['AU01', 'AU02', 'AU04', 'AU05', 'AU06', 'AU07', 'AU09', 'AU10', 'AU12', 'AU14', 'AU15', 'AU17', 'AU20', 'AU23', 'AU25', 'AU26', 'AU45']\n",
        "L = np.arange(17)\n",
        "plt.bar(X , happy_17, color = 'g', width = 0.20)\n",
        "plt.bar(L+0.25 ,not_h_17, color = 'b', width = 0.20)\n",
        "plt.xticks(rotation=70)\n",
        "plt.rcParams[\"font.weight\"] = \"bold\"\n",
        "plt.rcParams[\"axes.labelweight\"] = \"bold\"\n",
        "colors = {'happy':'green', 'not happy':'blue'}         \n",
        "labels = list(colors.keys())\n",
        "handles = [plt.Rectangle((0,0),1,1, color=colors[label]) for label in labels]\n",
        "plt.legend(handles, labels)\n",
        "plt.ylabel('mean value')\n",
        "plt.rc('font', family='serif', size=15)\n",
        "#fig = plt.gcf()\n",
        "#fig.set_size_inches(8, 6)\n",
        "#fig.savefig('17_train.png', dpi=80)\n",
        "\n",
        "plt.show()\n",
        "\n",
        "# Plot happy vs not happy for the presence of the 18 auction units RAVDNESS\n",
        "#plt.title('Plot happy vs not happy for presence of the 18 auction units')\n",
        "X = ['AU01', 'AU02', 'AU04', 'AU05', 'AU06', 'AU07', 'AU09', 'AU10', 'AU12', 'AU14', 'AU15', 'AU17', 'AU20', 'AU23', 'AU25', 'AU26', 'AU28', 'AU45']\n",
        "L = np.arange(18)\n",
        "plt.bar(X , happy_18, color = 'g', width = 0.20)\n",
        "plt.bar(L+0.25 ,not_h_18, color = 'b', width = 0.20)\n",
        "plt.xticks(rotation=70)\n",
        "plt.rcParams[\"font.weight\"] = \"bold\"\n",
        "plt.rcParams[\"axes.labelweight\"] = \"bold\"\n",
        "colors = {'happy':'green', 'not happy':'blue'}         \n",
        "labels = list(colors.keys())\n",
        "handles = [plt.Rectangle((0,0),1,1, color=colors[label]) for label in labels]\n",
        "plt.legend(handles, labels)\n",
        "plt.ylabel('mean value')\n",
        "plt.rc('font', family='serif', size=15)\n",
        "#fig = plt.gcf()\n",
        "#fig.set_size_inches(8, 6)\n",
        "#fig.savefig('18_train.png', dpi=80)\n",
        "\n",
        "plt.show()\n",
        "\n",
        "#Plot happy vs not happy for the insensity of the 17 auction units for the test set BAUM-1\n",
        "#plt.title('Plot happy vs not happy for the insensity of the 17 auction units for the test set')\n",
        "X =['AU01', 'AU02', 'AU04', 'AU05', 'AU06', 'AU07', 'AU09', 'AU10', 'AU12', 'AU14', 'AU15', 'AU17', 'AU20', 'AU23', 'AU25', 'AU26', 'AU45']\n",
        "L = np.arange(17)\n",
        "plt.bar(X , happy_17_t, color = 'g', width = 0.20)\n",
        "plt.bar(L+0.25 ,not_h_17_t, color = 'b', width = 0.20)\n",
        "plt.xticks(rotation=70)\n",
        "plt.rcParams[\"font.weight\"] = \"bold\"\n",
        "plt.rcParams[\"axes.labelweight\"] = \"bold\"\n",
        "colors = {'happy':'green', 'not happy':'blue'}         \n",
        "labels = list(colors.keys())\n",
        "handles = [plt.Rectangle((0,0),1,1, color=colors[label]) for label in labels]\n",
        "plt.legend(handles, labels)\n",
        "plt.ylabel('mean value')\n",
        "plt.rc('font', family='serif', size=15)\n",
        "#fig = plt.gcf()\n",
        "#fig.set_size_inches(8, 6)\n",
        "#fig.savefig('17_test.png', dpi=80)\n",
        "\n",
        "plt.show()\n",
        "\n",
        "#Plot happy vs not happy for the presence of 18 auction units for the test set BAUM-1\n",
        "#plt.title('Plot happy vs not happy for the presence  of the 18 auction units for the test set')\n",
        "X = ['AU01', 'AU02', 'AU04', 'AU05', 'AU06', 'AU07', 'AU09', 'AU10', 'AU12', 'AU14', 'AU15', 'AU17', 'AU20', 'AU23', 'AU25', 'AU26', 'AU28', 'AU45']\n",
        "L = np.arange(18)\n",
        "plt.bar(X , happy_18_t, color = 'g', width = 0.20)\n",
        "plt.bar(L+0.25 ,not_h_18_t, color = 'b', width = 0.20)\n",
        "plt.xticks(rotation=70)\n",
        "plt.rcParams[\"font.weight\"] = \"bold\"\n",
        "plt.rcParams[\"axes.labelweight\"] = \"bold\"\n",
        "colors = {'happy':'green', 'not happy':'blue'}         \n",
        "labels = list(colors.keys())\n",
        "handles = [plt.Rectangle((0,0),1,1, color=colors[label]) for label in labels]\n",
        "plt.legend(handles, labels)\n",
        "plt.ylabel('mean value')\n",
        "plt.rc('font', family='serif', size=15)\n",
        "\n",
        "#fig = plt.gcf()\n",
        "#fig.set_size_inches(8, 6)\n",
        "#fig.savefig('18_test.png', dpi=80)\n",
        "\n",
        "plt.show()\n",
        "\n",
        "#Plot for insensity of the 17 auction units for pitch and q&a data\n",
        "#plt.title('Plot for the insensity of the 17 auction units for pitch and q&a data')\n",
        "X =['AU01', 'AU02', 'AU04', 'AU05', 'AU06', 'AU07', 'AU09', 'AU10', 'AU12', 'AU14', 'AU15', 'AU17', 'AU20', 'AU23', 'AU25', 'AU26', 'AU45']\n",
        "L = np.arange(17)\n",
        "plt.bar(X , pitch_plot[:17], color = 'yellow', width = 0.20)\n",
        "plt.bar(L+0.25 ,q_a_plot[:17], color = 'black', width = 0.20)\n",
        "plt.xticks(rotation=70)\n",
        "plt.rcParams[\"font.weight\"] = \"bold\"\n",
        "plt.rcParams[\"axes.labelweight\"] = \"bold\"\n",
        "colors = {'pitch':'yellow', 'q&a':'black'}         \n",
        "labels = list(colors.keys())\n",
        "handles = [plt.Rectangle((0,0),1,1, color=colors[label]) for label in labels]\n",
        "plt.legend(handles, labels)\n",
        "plt.ylabel('mean value')\n",
        "plt.rc('font', family='serif', size=11)\n",
        "\n",
        "#fig = plt.gcf()\n",
        "#fig.set_size_inches(8, 6)\n",
        "#fig.savefig('17_p.png', dpi=80)\n",
        "\n",
        "plt.show()\n",
        "\n",
        "#Plot for presence of the 18 auction units for pitch and Q&A\n",
        "#plt.title('Plot happy vs not happy for the presence of the 18 auction units')\n",
        "X = ['AU01', 'AU02', 'AU04', 'AU05', 'AU06', 'AU07', 'AU09', 'AU10', 'AU12', 'AU14', 'AU15', 'AU17', 'AU20', 'AU23', 'AU25', 'AU26', 'AU28', 'AU45']\n",
        "L = np.arange(18)\n",
        "plt.bar(X , pitch_plot[17:], color = 'yellow', width = 0.20)\n",
        "plt.bar(L+0.25 ,q_a_plot[17:], color = 'black', width = 0.20)\n",
        "plt.xticks(rotation=70)\n",
        "plt.rcParams[\"font.weight\"] = \"bold\"\n",
        "plt.rcParams[\"axes.labelweight\"] = \"bold\"\n",
        "colors = {'pitch':'yellow', 'q&a':'black'}          \n",
        "labels = list(colors.keys())\n",
        "handles = [plt.Rectangle((0,0),1,1, color=colors[label]) for label in labels]\n",
        "plt.legend(handles, labels)\n",
        "plt.ylabel('mean value')\n",
        "plt.rc('font', family='serif', size=15)\n",
        "#fig = plt.gcf()\n",
        "#fig.set_size_inches(8, 6)\n",
        "#fig.savefig('18_p.png', dpi=80)\n",
        "\n",
        "plt.show()"
      ],
      "execution_count": 0,
      "outputs": [
        {
          "output_type": "display_data",
          "data": {
            "image/png": "[encoded data removed]",
            "text/plain": [
              "<Figure size 432x288 with 1 Axes>"
            ]
          },
          "metadata": {
            "tags": [],
            "needs_background": "light"
          }
        },
        {
          "output_type": "display_data",
          "data": {
            "image/png": "[encoded data removed]",
            "text/plain": [
              "<Figure size 432x288 with 1 Axes>"
            ]
          },
          "metadata": {
            "tags": [],
            "needs_background": "light"
          }
        },
        {
          "output_type": "display_data",
          "data": {
            "image/png": "[encoded data removed]",
            "text/plain": [
              "<Figure size 432x288 with 1 Axes>"
            ]
          },
          "metadata": {
            "tags": [],
            "needs_background": "light"
          }
        },
        {
          "output_type": "display_data",
          "data": {
            "image/png": "[encoded data removed]",
            "text/plain": [
              "<Figure size 432x288 with 1 Axes>"
            ]
          },
          "metadata": {
            "tags": [],
            "needs_background": "light"
          }
        },
        {
          "output_type": "display_data",
          "data": {
            "image/png": "[encoded data removed]",
            "text/plain": [
              "<Figure size 432x288 with 1 Axes>"
            ]
          },
          "metadata": {
            "tags": [],
            "needs_background": "light"
          }
        },
        {
          "output_type": "display_data",
          "data": {
            "image/png": "[encoded data removed]",
            "text/plain": [
              "<Figure size 432x288 with 1 Axes>"
            ]
          },
          "metadata": {
            "tags": [],
            "needs_background": "light"
          }
        }
      ]
    },
    {
      "cell_type": "markdown",
      "metadata": {
        "id": "A1-VwDL-m0sE",
        "colab_type": "text"
      },
      "source": [
        "##Preprocessing "
      ]
    },
    {
      "cell_type": "code",
      "metadata": {
        "id": "fWkqSWNM_07n",
        "colab_type": "code",
        "cellView": "form",
        "colab": {}
      },
      "source": [
        "#@title # Function for downsampling and split into train, val, test set \n",
        "def downsampling_split(data, rawlabels):\n",
        "  xTrainall, xTestall, yTrainall, yTestall = train_test_split(data,rawlabels, test_size = 0.08, random_state = 0)\n",
        "\n",
        "  #Save the min number of class to use it for downsampling \n",
        "  n_samples = min(np.unique(yTrainall, return_counts=True)[1])\n",
        "\n",
        "  #I have to change the shape of ytrain to concatenate the data \n",
        "  x8= np.zeros((yTrainall.shape[0],90,1))\n",
        "  for i in range(yTrainall.shape[0]):\n",
        "    if yTrainall[i] == 1:\n",
        "      x8[i]=1\n",
        "    if yTrainall[i] == 2:\n",
        "      x8[i]=2\n",
        "    if yTrainall[i] == 3:\n",
        "      x8[i]=3\n",
        "    if yTrainall[i] == 4:\n",
        "      x8[i]=4\n",
        "    if yTrainall[i] == 5:\n",
        "      x8[i]=5\n",
        "    if yTrainall[i] == 6:\n",
        "      x8[i]=6\n",
        "    if yTrainall[i] == 7:\n",
        "      x8[i]=7\n",
        "    if yTrainall[i] == 8:\n",
        "      x8[i]=8 \n",
        "\n",
        "\n",
        "  # concatenate our training data back together\n",
        "  X8 = np.concatenate([xTrainall, x8.reshape(x8.shape[0],90,1)], axis = 2)\n",
        "\n",
        "  ## separate classes\n",
        "  not_happy_1= X8[np.where(yTrainall==1)[0],:,:]\n",
        "  happy = X8[np.where(yTrainall==3)[0],:,:]\n",
        "  not_happy_2= X8[np.where(yTrainall==2)[0],:,:]\n",
        "  not_happy_4= X8[np.where(yTrainall==4)[0],:,:]\n",
        "  not_happy_5= X8[np.where(yTrainall==5)[0],:,:]\n",
        "  not_happy_6= X8[np.where(yTrainall==6)[0],:,:]\n",
        "  not_happy_7= X8[np.where(yTrainall==7)[0],:,:]\n",
        "  not_happy_8= X8[np.where(yTrainall==8)[0],:,:]\n",
        "\n",
        "  c1 = resample(not_happy_1, replace = False, # sample without replacement\n",
        "                                  n_samples = n_samples, # match minority n\n",
        "                                  random_state = 27)\n",
        "  c2 = resample(not_happy_2, replace = False, # sample without replacement\n",
        "                                  n_samples = n_samples, # match minority n\n",
        "                                  random_state = 27)\n",
        "  c4 = resample(not_happy_4, replace = False, # sample without replacement\n",
        "                                  n_samples = n_samples, # match minority n\n",
        "                                  random_state = 27)\n",
        "  c5 = resample(not_happy_5, replace = False, # sample without replacement\n",
        "                                  n_samples = n_samples, # match minority n\n",
        "                                  random_state = 27)\n",
        "  c6 = resample(not_happy_6, replace = False, # sample without replacement\n",
        "                                  n_samples = n_samples, # match minority n\n",
        "                                  random_state = 27)\n",
        "  c7 = resample(not_happy_7, replace = False, # sample without replacement\n",
        "                                  n_samples = n_samples, # match minority n\n",
        "                                  random_state = 27)\n",
        "  c8 = resample(not_happy_8, replace = False, # sample without replacement\n",
        "                                  n_samples = n_samples, # match minority n\n",
        "                                  random_state = 27)\n",
        "\n",
        "  downsample = np.concatenate([c1, c2, c4, c5, c6, c7, c8, happy])\n",
        "  #make the labels\n",
        "  labels_down = np.zeros((downsample.shape[0],1))\n",
        "  for i in range(downsample.shape[0]):\n",
        "    if downsample[i,1,35]== 3:\n",
        "      labels_down[i] = 1\n",
        "\n",
        "  \n",
        "  #keep only the au and delete the label\n",
        "  downsample_tr= downsample[:,:,:35]\n",
        "\n",
        "  \n",
        "\n",
        "  #make the labels for the test set\n",
        "  yTestall = (yTestall == 3).astype(\"int32\").reshape((yTestall.shape[0],1))\n",
        "  yTrainall = (yTrainall == 3).astype(\"int32\").reshape((yTrainall.shape[0],1))\n",
        "\n",
        "\n",
        "  xTrain_d, xVal, yTrain_d, yVal = train_test_split(downsample_tr, labels_down, test_size = 0.10, random_state = 0)\n",
        "\n",
        "  return (xTrainall, xTestall, yTrainall, yTestall, xTrain_d, xVal, yTrain_d, yVal,downsample_tr, labels_down)\n"
      ],
      "execution_count": 0,
      "outputs": []
    },
    {
      "cell_type": "code",
      "metadata": {
        "id": "BALmJUIYyXsQ",
        "colab_type": "code",
        "cellView": "form",
        "colab": {}
      },
      "source": [
        "#@title # Function for upsampling\n",
        "def upsampling(data, y):\n",
        "  xtr, xval, ytrain, yval = train_test_split(data, y, \n",
        "                                             test_size = 0.10,\n",
        "                                             random_state = 0)\n",
        "  \n",
        "  #change the shape of ytrain to concatenate the data and y \n",
        "  x= np.zeros((ytrain.shape[0],90,1))\n",
        "  for i in range(ytrain.shape[0]):\n",
        "    if ytrain[i] == 1:\n",
        "      x[i]=1\n",
        "\n",
        "  # concatenate our training data back together\n",
        "  X = np.concatenate([xtr, x], axis = 2)\n",
        "  \n",
        "  # separate minority and majority classes\n",
        "  not_happy= X[np.where(ytrain==0)[0],:,:]\n",
        "  happy = X[np.where(ytrain==1)[0],:,:]\n",
        "\n",
        "  # upsample minority\n",
        "  happy_upsampled = resample(happy,\n",
        "                            replace=True, # sample with replacement\n",
        "                            n_samples= 550,#len(not_happy), # match number in majority class\n",
        "                            random_state=27) # reproducible results\n",
        "  # combine majority and upsampled minority\n",
        "  upsampled = np.concatenate([not_happy, happy_upsampled])\n",
        "\n",
        "  #make the labels\n",
        "  labels_up = np.zeros((upsampled.shape[0]))\n",
        "  for i in range(upsampled.shape[0]):\n",
        "    if upsampled[i,1,35]== 1:\n",
        "      labels_up[i] = 1\n",
        "\n",
        "\n",
        "  upsampled_tr= upsampled[:,:,:35]\n",
        "  \n",
        "\n",
        "  labels_up= labels_up.reshape(labels_up.shape[0],1)\n",
        "\n",
        "  return(upsampled_tr, labels_up, xval, yval)"
      ],
      "execution_count": 0,
      "outputs": []
    },
    {
      "cell_type": "code",
      "metadata": {
        "id": "_fBwsJoe3IuJ",
        "colab_type": "code",
        "cellView": "form",
        "colab": {}
      },
      "source": [
        "#@title Make all 6 datasets: Downsampled,upsampled, all data for standardized (and not) data\n",
        "labels_8= labels_bin #this is the labels for all 8 emotions\n",
        "#Unstandardize data\n",
        "xTrainall, xTestall, yTrainall, yTestall, xTrain_d, xVal_d, yTrain_d, yVal_d, downsample_tr, labels_down = downsampling_split(train_data, labels_8)\n",
        "#xallup,yallup = upsampling(xTrainall, yTrainall) #I save these variables in case that I need them for grid search\n",
        "xTrain_up, yTrain_up,xVal_up, yVal_up = upsampling(xTrainall, yTrainall)\n",
        "xTrain, xVal, yTrain,  yVal = train_test_split(xTrainall, yTrainall, test_size = 0.10, random_state = 0)\n",
        "\n",
        "###stard\n",
        "#make a function that calculates the mean and std per action units\n",
        "def mean_st(data):\n",
        "  mean  = data.reshape(data.shape[0]*data.shape[1],35).mean(axis=0)\n",
        "  st    = data.reshape(data.shape[0]*data.shape[1],35).std(axis=0)\n",
        "  return (mean, st)\n",
        "mean_train_all, std_train_all = mean_st(train_data)\n",
        "train_data_st_d = (train_data - mean_train_all) / std_train_all\n",
        "train_data_st_up = (xTrainall- mean_train_all)/ std_train_all\n",
        "test_data_st_up = (xTestall - mean_train_all) / std_train_all\n",
        "test_data_st_ex = (test_data - mean_train_all) / std_train_all\n",
        "\n",
        "#Standardize data\n",
        "xTrainall_s, xTestall_s, yTrainall_s, yTestall_s, xTrain_d_s, xVal_d_s, yTrain_d_s, yVal_d_s, downsample_tr_s, labels_down_s = downsampling_split(train_data_st_d, labels_8)\n",
        "#xallup_s,yallup_s = upsampling(train_data_st_up, yTrainall) #I save these variables in case that I need them for grid search\n",
        "xTrain_up_s, yTrain_up_s, xVal_up_s, yVal_up_s = upsampling(train_data_st_up, yTrainall)\n",
        "xTrain_s,  xVal_s, yTrain_s, yVal_s = train_test_split(train_data_st_up, yTrainall, test_size = 0.10, random_state = 0)\n"
      ],
      "execution_count": 0,
      "outputs": []
    },
    {
      "cell_type": "code",
      "metadata": {
        "id": "KLmciIMN7P61",
        "colab_type": "code",
        "outputId": "135b828a-2d14-44c8-890c-d7284b7afd4d",
        "cellView": "form",
        "colab": {
          "base_uri": "https://localhost:8080/",
          "height": 105
        }
      },
      "source": [
        "#@title Shape of data\n",
        "print('Upsampled train set shape: ',xTrain_up.shape, xTrain_up[yTrain_up.squeeze()==1].shape, xTrain_up[yTrain_up.squeeze()==0].shape)\n",
        "print(\"Downsampled train set shape: \", xTrain_d.shape, xTrain_d[yTrain_d.squeeze()==1].shape, xTrain_d[yTrain_d.squeeze()==0].shape )\n",
        "print('internal test set shape: ', xTestall.shape, xTestall[yTestall.squeeze()==1].shape  )\n",
        "print('shape of all train data: ', train_data.shape, train_data[labels_tr.squeeze()==1].shape, train_data[labels_tr.squeeze()==0].shape)\n",
        "print('external test set shape', test_data.shape, test_data[labels_test.squeeze()==1].shape, test_data[labels_test.squeeze()==0].shape)"
      ],
      "execution_count": 0,
      "outputs": [
        {
          "output_type": "stream",
          "text": [
            "Upsampled train set shape:  (2271, 90, 35) (550, 90, 35) (1721, 90, 35)\n",
            "Downsampled train set shape:  (1376, 90, 35) (311, 90, 35) (1065, 90, 35)\n",
            "internal test set shape:  (197, 90, 35) (30, 90, 35)\n",
            "shape of all train data:  (2452, 90, 35) (376, 90, 35) (2076, 90, 35)\n",
            "external test set shape (166, 90, 35) (83, 90, 35) (83, 90, 35)\n"
          ],
          "name": "stdout"
        }
      ]
    },
    {
      "cell_type": "code",
      "metadata": {
        "id": "O_3kFJ1QdsZ5",
        "colab_type": "code",
        "cellView": "form",
        "colab": {}
      },
      "source": [
        "#@title print the dif in mean and std among datasets\n",
        "\n",
        "\n",
        "#print the mean and st of the internal and external dataset\n",
        "print('internal dataset')\n",
        "mean_tr, std_tr = mean_st(xTrain_d)\n",
        "mean_val, std_val = mean_st(xVal)\n",
        "mean_test, std_test = mean_st(xTestall)\n",
        "print(\"mean dif valid set: \",mean_tr-mean_val,\"\\n mean dif test set: \", mean_tr - mean_test, \n",
        "        \"\\nst dif valid set: \",std_tr-std_val,\"\\nstd dif test set: \", std_tr - std_test)\n",
        "\n",
        "print('\\nexternal dataset')\n",
        "mean_extern_test, std_extern_test = mean_st(test_data)\n",
        "\n",
        "print('mean dif external test set: ', mean_extern_test- mean_train_all,\n",
        "        '\\nstd dif external test set: ', std_extern_test - std_train_all)\n"
      ],
      "execution_count": 0,
      "outputs": []
    },
    {
      "cell_type": "markdown",
      "metadata": {
        "id": "iRcEx1SXm_W1",
        "colab_type": "text"
      },
      "source": [
        "##LSTM"
      ]
    },
    {
      "cell_type": "code",
      "metadata": {
        "id": "7jVcYGoGsxuY",
        "colab_type": "code",
        "cellView": "form",
        "colab": {}
      },
      "source": [
        "#@title #Function that gives the acc and f1 for lstm\n",
        "def acc_f1(xtrain, xval, ytrain, yval, binary= True):\n",
        "  \n",
        "  filepath= \"weightsfunction.best.hdf5\"\n",
        "  checkpoint = ModelCheckpoint(filepath, monitor='val_loss', verbose=0, \n",
        "                               save_best_only=True, mode='auto')\n",
        "\n",
        "  if binary:\n",
        "    xtrain = xtrain[:,:,17:]\n",
        "    xval = xval[:,:,17:]\n",
        "    shape= xtrain.shape[2]\n",
        "  else:\n",
        "    xtrain = xtrain[:,:,:17]\n",
        "    xval = xval[:,:,:17]\n",
        "    shape = xtrain.shape[2]\n",
        "\n",
        "  model = Sequential()\n",
        "  model.add(LSTM(70, input_shape=(90, shape)))\n",
        "  model.add(Dense(1 , activation = \"sigmoid\"))\n",
        "  model.compile(loss='binary_crossentropy', optimizer='Adam', metrics = [\"acc\"])\n",
        "  # fit network\n",
        "  history = model.fit(xtrain, ytrain, epochs=100, batch_size=80, \n",
        "                      verbose=0, shuffle=False, \n",
        "                      validation_data = (xval, yval),\n",
        "                      callbacks= [checkpoint])\n",
        "  \n",
        "  #Load weights of best model\n",
        "  model.load_weights(\"weightsfunction.best.hdf5\")\n",
        "  #Compile model \n",
        "  model.compile(loss='binary_crossentropy', optimizer='Adam', metrics=['acc'])\n",
        "\n",
        "  val_acc_model = model.evaluate(xval, yval)\n",
        "  pred = np.array(model.predict(xval).squeeze() > 0.5).astype(\"int32\")\n",
        "  f1 = f1_score(yval, pred) \n",
        "\n",
        "  return(val_acc_model, f1)\n",
        "\n",
        "    "
      ],
      "execution_count": 0,
      "outputs": []
    },
    {
      "cell_type": "code",
      "metadata": {
        "id": "IApaLb0v352F",
        "colab_type": "code",
        "cellView": "form",
        "colab": {}
      },
      "source": [
        "#@title Get the acc and f1 score for lstm for all 12 datasets to define the best dataset; preprocessing\n",
        "acc_d_17, f1_d_17 = acc_f1(xTrain_d, xVal_d, yTrain_d, yVal_d, binary = False)\n",
        "acc_d_18, f1_d_18 = acc_f1(xTrain_d, xVal_d, yTrain_d, yVal_d, binary = True)\n",
        "acc_up_17, f1_up_17 = acc_f1(xTrain_up, xVal_up, yTrain_up, yVal_up, binary = False)\n",
        "acc_up_18, f1_up_18 = acc_f1(xTrain_up, xVal_up, yTrain_up, yVal_up, binary = True)\n",
        "acc_all_17, f1_all_17 = acc_f1(xTrain, xVal, yTrain, yVal, binary = False)\n",
        "acc_all_18, f1_all_18 = acc_f1(xTrain, xVal, yTrain, yVal, binary = True)\n",
        "\n",
        "acc_d_17_s, f1_d_17_s = acc_f1(xTrain_d_s, xVal_d_s, yTrain_d_s, yVal_d_s, binary = False)\n",
        "acc_d_18_s, f1_d_18_s = acc_f1(xTrain_d_s, xVal_d_s, yTrain_d_s, yVal_d_s, binary = True)\n",
        "acc_up_17_s, f1_up_17_s = acc_f1(xTrain_up_s, xVal_up_s, yTrain_up_s, yVal_up_s, binary = False)\n",
        "acc_up_18_s, f1_up_18_s = acc_f1(xTrain_up_s, xVal_up_s, yTrain_up_s, yVal_up_s, binary = True)\n",
        "acc_all_17_s, f1_all_17_s = acc_f1(xTrain_s, xVal, yTrain, yVal, binary = False)\n",
        "acc_all_18_s, f1_all_18_s = acc_f1(xTrain, xVal, yTrain, yVal, binary = True)"
      ],
      "execution_count": 0,
      "outputs": []
    },
    {
      "cell_type": "code",
      "metadata": {
        "id": "29o9Z71n4tR8",
        "colab_type": "code",
        "cellView": "form",
        "colab": {}
      },
      "source": [
        "#@title Print the acc and f1 per model; lstm\n",
        "\n",
        "names_data = ['downsample_17','downsample_18', 'upsample_17', 'upsample_18', 'all_data_17', 'all_data_18', 'downsample_st_17', 'downsample_st_18', 'upsample_st_17', 'upsample_st_18', 'all_data_st_17', 'all_data_st_18' ]\n",
        "acc_data_lstm = [ acc_d_17, acc_d_18, acc_up_17, acc_up_18, acc_all_17, acc_all_18, acc_d_17_s, acc_d_18_s, acc_up_17_s, acc_up_18_s, acc_all_17_s, acc_all_18_s ]\n",
        "f1_data_lstm = [ f1_d_17, f1_d_18, f1_up_17, f1_up_18, f1_all_17, f1_all_18, f1_d_17_s, f1_d_18_s, f1_up_17_s, f1_up_18_s, f1_all_17_s, f1_all_18_s ]\n",
        "\n",
        "\n",
        "models_summary_lstm = pd.DataFrame(list(zip(names_data,acc_data_lstm,f1_data_lstm)), columns = ['names','loss     validation accuracy', 'f1'])\n",
        "print(models_summary_lstm)\n",
        "#models_summary_lstm.to_csv(r'/content/drive/My Drive/thesis/data/summary_lstm_loss2.csv', index = False, header=True)\n",
        "#all_data_18   [0.0829424038529396, 0.9734513163566589]  0.921053"
      ],
      "execution_count": 0,
      "outputs": []
    },
    {
      "cell_type": "code",
      "metadata": {
        "id": "7Dm2zbx1E2Da",
        "colab_type": "code",
        "cellView": "form",
        "colab": {}
      },
      "source": [
        "#@title make the model for gridsearch\n",
        "\n",
        "def create_model(neurons = 100, activation = 'relu', learn_rate = 0.01,  hidden_layers=1): \n",
        "  model = Sequential()\n",
        "  model.add(LSTM(neurons, input_shape=(90, 18)))\n",
        "  for i in range(hidden_layers):\n",
        "    model.add(Dense(neurons, activation=activation))\n",
        "  model.add(Dense(1 , activation = \"sigmoid\"))\n",
        "  adam = Adam(lr=learn_rate)\n",
        "  model.compile(loss='binary_crossentropy', optimizer = adam, metrics = [\"acc\"])\n",
        "  return model"
      ],
      "execution_count": 0,
      "outputs": []
    },
    {
      "cell_type": "code",
      "metadata": {
        "id": "ymusXCm3FIHx",
        "colab_type": "code",
        "outputId": "3717b9d3-d709-45a6-f4cd-6fbb0a40959e",
        "cellView": "form",
        "colab": {
          "base_uri": "https://localhost:8080/",
          "height": 72
        }
      },
      "source": [
        "#@title Gridsearch for LSTM \n",
        "seed = 7\n",
        "np.random.seed(seed)\n",
        "\n",
        "model = KerasClassifier(build_fn=create_model, verbose=0)\n",
        "\n",
        "batch_size = [32, 72, 80] #[50, 72, 80, 100]\n",
        "epochs = [50, 80]\n",
        "#optimizer = ['RMSprop', 'Adagrad', 'Adadelta', 'Adam' ]  #['SGD', 'RMSprop', 'Adagrad', 'Adadelta', 'Adam', 'Adamax', 'Nadam'] \n",
        "learn_rate = [0.001, 0.01] \n",
        "hidden_layers= [0,1]\n",
        "neurons = [70, 100]\n",
        "#momentum = [0.0, 0.2, 0.6]\n",
        "#activation = ['softmax', 'relu', 'tanh', 'linear']\n",
        "cross_validation = StratifiedKFold(n_splits=3, shuffle=True,  random_state = 2)\n",
        "param_grid = dict(epochs = epochs, batch_size = batch_size, learn_rate = learn_rate, hidden_layers = hidden_layers, neurons= neurons) #, activation = activation)\n",
        "grid = GridSearchCV(estimator=model, param_grid=param_grid, n_jobs=-1, cv =cross_validation, scoring = 'f1')\n",
        "grid_result = grid.fit(xTrainall[:,:,17:], yTrainall)\n",
        "\n",
        "#print best parameters and  f1 score\n",
        "print(\"Best: %f using %s\" % (grid_result.best_score_, grid_result.best_params_))\n",
        "means = grid_result.cv_results_['mean_test_score']\n",
        "stds = grid_result.cv_results_['std_test_score']\n",
        "params = grid_result.cv_results_['params']\n",
        "#for mean, stdev, param in zip(means, stds, params):\n",
        "#    print(\"%f (%f) with: %r\" % (mean, stdev, param))\n",
        "\n",
        "#Best: 0.861142 using {'batch_size': 80, 'epochs': 80, 'hidden_layers': 1, 'learn_rate': 0.01, 'neurons': 70}"
      ],
      "execution_count": 0,
      "outputs": [
        {
          "output_type": "stream",
          "text": [
            "/usr/local/lib/python3.6/dist-packages/joblib/externals/loky/process_executor.py:706: UserWarning: A worker stopped while some jobs were given to the executor. This can be caused by a too short worker timeout or by a memory leak.\n",
            "  \"timeout or by a memory leak.\", UserWarning\n"
          ],
          "name": "stderr"
        }
      ]
    },
    {
      "cell_type": "code",
      "metadata": {
        "id": "vJDVNnvyLDD3",
        "colab_type": "code",
        "outputId": "86e9a8b8-4916-4569-89e6-de6132bf0d6b",
        "cellView": "form",
        "colab": {
          "base_uri": "https://localhost:8080/",
          "height": 34
        }
      },
      "source": [
        "#@title Fit LSTM with best parameters\n",
        "\n",
        "\n",
        "filepath=\"weightsd_178.best.hdf5\"\n",
        "checkpoint = ModelCheckpoint(filepath, monitor='val_loss', verbose=0, save_best_only=True, mode='auto')\n",
        "\n",
        "model = Sequential()\n",
        "model.add(LSTM(70, input_shape=(90, 18)))\n",
        "model.add(Dense(70, activation = 'relu'))\n",
        "model.add(Dense(1 , activation = \"sigmoid\"))\n",
        "adam = Adam(lr=0.01)\n",
        "model.compile(loss='binary_crossentropy', optimizer= adam, metrics = [\"acc\"])\n",
        "# fit network\n",
        "history = model.fit(xTrain[:,:,17:], yTrain, epochs=80, batch_size=80, verbose=2, shuffle=False, validation_data = (xVal[:,:,17:], yVal), callbacks= [checkpoint])\n",
        "# plot history\n",
        "#pyplot.plot(history.history['loss'], label='train')\n",
        "#pyplot.plot(history.history['val_loss'], label='test')\n",
        "#pyplot.legend()\n",
        "#pyplot.show()\n",
        "\n",
        "\n",
        "model.load_weights(\"weightsd_178.best.hdf5\")\n",
        "# Compile model (required to make predictions)\n",
        "model.compile(loss='binary_crossentropy', optimizer= adam, metrics=['acc'])\n",
        "print(\"Created model and loaded weights from file\")\n",
        "\n"
      ],
      "execution_count": 0,
      "outputs": [
        {
          "output_type": "stream",
          "text": [
            "Created model and loaded weights from file\n"
          ],
          "name": "stdout"
        }
      ]
    },
    {
      "cell_type": "code",
      "metadata": {
        "id": "pzXC6YHt_ldr",
        "colab_type": "code",
        "outputId": "23b16cb7-f5bc-4d56-c303-f4d93bc0df8f",
        "cellView": "form",
        "colab": {
          "base_uri": "https://localhost:8080/",
          "height": 638
        }
      },
      "source": [
        "#@title Get the accuracy and f1 score for lstm model final\n",
        "\n",
        "print('Train set')\n",
        "print('Evaluate on train set')\n",
        "results_train_lstm = model.evaluate(xTrain[:,:,17:], yTrain)\n",
        "print('train loss, train acc:', results_train_lstm)\n",
        "\n",
        "predtest_train = np.array(model.predict(xTrain[:,:,17:]).squeeze() > 0.5).astype(\"int32\")\n",
        "print('confusion matrix \\n', confusion_matrix(yTrain, predtest_train))\n",
        "f1_train_lstm = f1_score(yTrain, predtest_train)\n",
        "print('F1: ', f1_train_lstm)\n",
        "\n",
        "print('Validation set')\n",
        "print('\\n# Evaluate on validation')\n",
        "results_val_lstm = model.evaluate(xVal[:,:,17:], yVal)\n",
        "print('val loss, val acc:', results_val_lstm)\n",
        "\n",
        "predtest_val = np.array(model.predict(xVal[:,:,17:]).squeeze() > 0.5).astype(\"int32\")\n",
        "print('confusion matrix \\n', confusion_matrix(yVal, predtest_val))\n",
        "f1_val_lstm = f1_score(yVal, predtest_val)\n",
        "print('F1: ', f1_val_lstm)\n",
        "\n",
        "print('\\nInternal Test set')\n",
        "print('Evaluate on internal test data')\n",
        "results_test_in = model.evaluate(xTestall[:,:,17:], yTestall)\n",
        "print('test loss, test acc:', results_test_in)\n",
        "\n",
        "predtest_in = np.array(model.predict(xTestall[:,:,17:]).squeeze() > 0.5).astype(\"int32\")\n",
        "print('confusion matrix \\n', confusion_matrix(yTestall, predtest_in))\n",
        "f1_test_in_lstm = f1_score(yTestall, predtest_in)\n",
        "print('F1: ' ,f1_test_in_lstm)\n",
        "\n",
        "print(\"\\nExternal Test set\")\n",
        "pred_ex = np.array(model.predict(test_data[:,:,17:]).squeeze() > 0.5).astype(\"int32\")\n",
        "\n",
        "print('Evaluate on external test data')\n",
        "results_test_ex = model.evaluate(test_data[:,:,17:], labels_test)\n",
        "print('test loss, test acc:', results_test_ex)\n",
        "\n",
        "print('confusion matrix \\n', confusion_matrix(labels_test, pred_ex))\n",
        "f1_test_ex_lstm = f1_score(labels_test, pred_ex)\n",
        "print('F1: ', f1_test_ex_lstm )"
      ],
      "execution_count": 0,
      "outputs": [
        {
          "output_type": "stream",
          "text": [
            "Train set\n",
            "Evaluate on train set\n",
            "64/64 [==============================] - 0s 3ms/step - loss: 0.0685 - acc: 0.9744\n",
            "train loss, train acc: [0.06853938102722168, 0.974371612071991]\n",
            "confusion matrix \n",
            " [[1707   14]\n",
            " [  38  270]]\n",
            "F1:  0.9121621621621622\n",
            "Validation set\n",
            "\n",
            "# Evaluate on validation\n",
            "8/8 [==============================] - 0s 3ms/step - loss: 0.1206 - acc: 0.9690\n",
            "val loss, val acc: [0.12055465579032898, 0.9690265655517578]\n",
            "confusion matrix \n",
            " [[186   2]\n",
            " [  5  33]]\n",
            "F1:  0.904109589041096\n",
            "\n",
            "Internal Test set\n",
            "Evaluate on internal test data\n",
            "7/7 [==============================] - 0s 3ms/step - loss: 0.1721 - acc: 0.9492\n",
            "test loss, test acc: [0.1720949411392212, 0.9492385983467102]\n",
            "confusion matrix \n",
            " [[165   2]\n",
            " [  8  22]]\n",
            "F1:  0.8148148148148148\n",
            "\n",
            "External Test set\n",
            "Evaluate on external test data\n",
            "6/6 [==============================] - 0s 3ms/step - loss: 0.9953 - acc: 0.8253\n",
            "test loss, test acc: [0.9953385591506958, 0.8253012299537659]\n",
            "confusion matrix \n",
            " [[77  6]\n",
            " [23 60]]\n",
            "F1:  0.8053691275167785\n"
          ],
          "name": "stdout"
        }
      ]
    },
    {
      "cell_type": "markdown",
      "metadata": {
        "id": "fvfYGpkKnJPy",
        "colab_type": "text"
      },
      "source": [
        "##CNN-LSTM"
      ]
    },
    {
      "cell_type": "code",
      "metadata": {
        "id": "urvDkAPRbuBP",
        "colab_type": "code",
        "cellView": "form",
        "colab": {}
      },
      "source": [
        "#@title #Function that gives the acc and f1 for cnn\n",
        " \n",
        "def acc_f1_cnn(xtrain, xval, ytrain, yval, binary= True):\n",
        "  xtrain = xtrain.reshape(xtrain.shape[0], xtrain.shape[1], xtrain.shape[2], 1)\n",
        "  xval = xval.reshape(xval.shape[0], xval.shape[1], xval.shape[2], 1)\n",
        "\n",
        "  filepath= \"weightsfunctioncnn.best.hdf5\"\n",
        "  checkpoint = ModelCheckpoint(filepath, monitor='val_loss', verbose=0, \n",
        "                               save_best_only=True, mode='auto')\n",
        "\n",
        "  if binary:\n",
        "    xtrain = xtrain[:,:,17:,:]\n",
        "    xval = xval[:,:,17:,:]\n",
        "    shape= xtrain.shape[2]\n",
        "  else:\n",
        "    xtrain = xtrain[:,:,:17,:]\n",
        "    xval = xval[:,:,:17,:]\n",
        "    shape = xtrain.shape[2]\n",
        "\n",
        "\n",
        "\n",
        "  # Create a sequential model\n",
        "  model = Sequential()\n",
        "\n",
        "  # Add convolutional and pooling layers\n",
        "  model.add(Input((90, shape,1)))\n",
        "  model.add(Conv2D(32, (3, 3), activation='relu'))\n",
        "  model.add(MaxPooling2D((2, 2)))\n",
        "  model.add(Dropout(0.3))\n",
        "  model.add(Conv2D(32, (3, 3), activation='relu'))\n",
        "  model.add(MaxPooling2D((2, 2)))\n",
        "  model.add(Dropout(0.2))\n",
        "  model.add(Dense(40, activation = 'relu'))\n",
        "  model.add(Reshape((-1,40)))\n",
        "  model.add(LSTM(50))\n",
        "  model.add(Dense(1 , activation = \"sigmoid\"))\n",
        "  model.compile(loss='binary_crossentropy', optimizer='Adam', metrics = [\"acc\"])\n",
        "\n",
        "  \n",
        " \n",
        "  # fit network\n",
        "  history = model.fit(xtrain, ytrain, epochs=100, batch_size=72, \n",
        "                      verbose=0, shuffle=False, \n",
        "                      validation_data = (xval, yval),\n",
        "                      callbacks= [checkpoint])\n",
        "  \n",
        "  #Load weights of best model\n",
        "  model.load_weights(\"weightsfunctioncnn.best.hdf5\")\n",
        "  #Compile model \n",
        "  model.compile(loss='binary_crossentropy', optimizer='Adam', metrics=['acc'])\n",
        "\n",
        "  val_acc_model = model.evaluate(xval, yval)\n",
        "  pred = np.array(model.predict(xval).squeeze() > 0.5).astype(\"int32\")\n",
        "  f1 = f1_score(yval, pred) \n",
        "\n",
        "  return(val_acc_model, f1)\n",
        "\n",
        "    "
      ],
      "execution_count": 0,
      "outputs": []
    },
    {
      "cell_type": "code",
      "metadata": {
        "id": "XlMBC0GnvoQS",
        "colab_type": "code",
        "outputId": "9604e71b-bc3b-465a-cdda-6b3650bfd8f0",
        "cellView": "form",
        "colab": {
          "base_uri": "https://localhost:8080/",
          "height": 230
        }
      },
      "source": [
        "#@title get the acc f1 score for cnn-lstm model to define the best dataset; preprocessing \n",
        "acc_d_17_cnn, f1_d_17_cnn = acc_f1_cnn(xTrain_d, xVal_d, yTrain_d, yVal_d, binary = False)\n",
        "acc_d_18_cnn, f1_d_18_cnn = acc_f1_cnn(xTrain_d, xVal_d, yTrain_d, yVal_d, binary = True)\n",
        "acc_up_17_cnn, f1_up_17_cnn = acc_f1_cnn(xTrain_up, xVal_up, yTrain_up, yVal_up, binary = False)\n",
        "acc_up_18_cnn, f1_up_18_cnn = acc_f1_cnn(xTrain_up, xVal_up, yTrain_up, yVal_up, binary = True)\n",
        "acc_all_17_cnn, f1_all_17_cnn = acc_f1_cnn(xTrain, xVal, yTrain, yVal, binary = False)\n",
        "acc_all_18_cnn, f1_all_18_cnn = acc_f1_cnn(xTrain, xVal, yTrain, yVal, binary = True)\n",
        "\n",
        "acc_d_17_s_cnn, f1_d_17_s_cnn = acc_f1_cnn(xTrain_d_s, xVal_d_s, yTrain_d_s, yVal_d_s, binary = False)\n",
        "acc_d_18_s_cnn, f1_d_18_s_cnn = acc_f1_cnn(xTrain_d_s, xVal_d_s, yTrain_d_s, yVal_d_s, binary = True)\n",
        "acc_up_17_s_cnn, f1_up_17_s_cnn = acc_f1_cnn(xTrain_up_s, xVal_up_s, yTrain_up_s, yVal_up_s, binary = False)\n",
        "acc_up_18_s_cnn, f1_up_18_s_cnn = acc_f1_cnn(xTrain_up_s, xVal_up_s, yTrain_up_s, yVal_up_s, binary = True)\n",
        "acc_all_17_s_cnn, f1_all_17_s_cnn = acc_f1_cnn(xTrain_s, xVal, yTrain, yVal, binary = False)\n",
        "acc_all_18_s_cnn, f1_all_18_s_cnn = acc_f1_cnn(xTrain, xVal, yTrain, yVal, binary = True)\n"
      ],
      "execution_count": 0,
      "outputs": [
        {
          "output_type": "stream",
          "text": [
            "5/5 [==============================] - 0s 5ms/step - loss: 0.1732 - acc: 0.9412\n",
            "5/5 [==============================] - 0s 5ms/step - loss: 0.1989 - acc: 0.9281\n",
            "8/8 [==============================] - 0s 5ms/step - loss: 0.1385 - acc: 0.9513\n",
            "8/8 [==============================] - 0s 6ms/step - loss: 0.1433 - acc: 0.9425\n",
            "8/8 [==============================] - 0s 5ms/step - loss: 0.1371 - acc: 0.9469\n",
            "8/8 [==============================] - 0s 6ms/step - loss: 0.1361 - acc: 0.9469\n",
            "5/5 [==============================] - 0s 5ms/step - loss: 0.1752 - acc: 0.9412\n",
            "5/5 [==============================] - 0s 6ms/step - loss: 0.1709 - acc: 0.9477\n",
            "8/8 [==============================] - 0s 5ms/step - loss: 0.1444 - acc: 0.9469\n",
            "8/8 [==============================] - 0s 6ms/step - loss: 0.1226 - acc: 0.9646\n",
            "8/8 [==============================] - 0s 5ms/step - loss: 0.2087 - acc: 0.9248\n",
            "8/8 [==============================] - 0s 6ms/step - loss: 0.1344 - acc: 0.9602\n"
          ],
          "name": "stdout"
        }
      ]
    },
    {
      "cell_type": "code",
      "metadata": {
        "id": "Dv8n5W9OE-sR",
        "colab_type": "code",
        "cellView": "form",
        "colab": {}
      },
      "source": [
        "#@title Print the acc and f1 per model; cnn-lstm\n",
        "names_data = ['downsample_17','downsample_18', 'upsample_17', 'upsample_18', 'all_data_17', 'all_data_18', 'downsample_st_17', 'downsample_st_18', 'upsample_st_17', 'upsample_st_18', 'all_data_st_17', 'all_data_st_18' ]\n",
        "acc_data_cnn = [ acc_d_17_cnn, acc_d_18_cnn, acc_up_17_cnn, acc_up_18_cnn, acc_all_17_cnn, acc_all_18_cnn, acc_d_17_s_cnn, acc_d_18_s_cnn, acc_up_17_s_cnn, acc_up_18_s_cnn, acc_all_17_s_cnn, acc_all_18_s_cnn ]\n",
        "f1_data_cnn = [ f1_d_17_cnn, f1_d_18_cnn, f1_up_17_cnn, f1_up_18_cnn, f1_all_17_cnn, f1_all_18_cnn, f1_d_17_s_cnn, f1_d_18_s_cnn, f1_up_17_s_cnn, f1_up_18_s_cnn, f1_all_17_s_cnn, f1_all_18_s_cnn ]\n",
        "\n",
        "\n",
        "models_summary_cnn = pd.DataFrame(list(zip(names_data,acc_data_cnn,f1_data_cnn)), columns = ['names','loss     validation accuracy', 'f1'])\n",
        "#models_summary_cnn.to_csv(r'/content/drive/My Drive/thesis/data/summary_cnn2.csv', index = False, header=True)\n",
        "models_summary_cnn\n"
      ],
      "execution_count": 0,
      "outputs": []
    },
    {
      "cell_type": "code",
      "metadata": {
        "id": "27Wt70Au4YTX",
        "colab_type": "code",
        "cellView": "form",
        "colab": {}
      },
      "source": [
        "#@title Create model for gridsearch -CNN\n",
        "\n",
        "\n",
        "def create_model_cnn(neurons = 100, activation = 'relu', learn_rate = 0.001,  hidden_layers=1): \n",
        "  model = Sequential()\n",
        "  model.add(Conv2D(neurons,(3,3), activation= activation, input_shape=(90, 18, 1)))\n",
        "  model.add(MaxPooling2D((2, 2)))\n",
        "  model.add(Dropout(0.3))\n",
        "  model.add(Conv2D(neurons,(3,3), activation= activation))\n",
        "  model.add(MaxPooling2D((2, 2)))\n",
        "  model.add(Dropout(0.2))\n",
        "  for i in range(hidden_layers):\n",
        "    model.add(Conv2D(neurons,(3,3), activation= activation))\n",
        "    model.add(MaxPooling2D((2, 2)))\n",
        "    model.add(Dropout(0.1))\n",
        "  model.add(Dense(40, activation=activation))\n",
        "  model.add(Reshape((-1 , 40)))\n",
        "  adam = Adam(lr=learn_rate)\n",
        "  model.add(LSTM(neurons))\n",
        "  model.add(Dense(1 , activation = \"sigmoid\"))\n",
        "  model.compile(loss='binary_crossentropy', optimizer = adam, metrics = [\"acc\"])\n",
        "  return model"
      ],
      "execution_count": 0,
      "outputs": []
    },
    {
      "cell_type": "code",
      "metadata": {
        "id": "aOhwFuvxC_RS",
        "colab_type": "code",
        "outputId": "6644c191-c769-4e85-d73e-ceaa4b0d99f9",
        "cellView": "form",
        "colab": {
          "base_uri": "https://localhost:8080/",
          "height": 72
        }
      },
      "source": [
        "#@title Gridsearch for CNN\n",
        "\n",
        "\n",
        "#Concatenate data for gridsearch\n",
        "xTrain_up_s_gr = np.concatenate((xTrain_up_s, xVal_up_s))\n",
        "yTrain_up_s_gr = np.concatenate((yTrain_up_s,yVal_up_s))\n",
        "\n",
        "seed = 7\n",
        "np.random.seed(seed)\n",
        "model = KerasClassifier(build_fn=create_model_cnn, verbose=0)\n",
        "batch_size = [64 ,72, 80] #[50, 72, 80, 100]\n",
        "epochs = [40, 100, 150, ]\n",
        "#optimizer = ['RMSprop', 'Adagrad', 'Adadelta', 'Adam' ]  #['SGD', 'RMSprop', 'Adagrad', 'Adadelta', 'Adam', 'Adamax', 'Nadam'] \n",
        "learn_rate = [0.001, 0.01]\n",
        "hidden_layers= [0, 1]\n",
        "neurons = [32, 64, 100]\n",
        "#dropout_rate = [0.3, 0.2, 0,1 ]\n",
        "#momentum = [0.0, 0.2, 0.6]\n",
        "#activation = ['softmax', 'relu', 'tanh']\n",
        "cross_validation = StratifiedKFold(n_splits=3, shuffle=True,  random_state = 2)\n",
        "param_grid = dict(epochs = epochs, batch_size = batch_size, learn_rate = learn_rate, hidden_layers = hidden_layers, neurons= neurons)#, dropout_rate = dropout_rate)\n",
        "grid = GridSearchCV(estimator=model, param_grid=param_grid, n_jobs=-1, cv =cross_validation, scoring ='f1')\n",
        "grid_result = grid.fit(xTrain_up_s_gr[:,:,17:].reshape(xTrain_up_s_gr.shape[0],90,18,1), yTrain_up_s_gr)\n",
        "\n",
        "#print best gridsearch\n",
        "print(\"Best: %f using %s\" % (grid_result.best_score_, grid_result.best_params_))\n",
        "means = grid_result.cv_results_['mean_test_score']\n",
        "stds = grid_result.cv_results_['std_test_score']\n",
        "params = grid_result.cv_results_['params']\n",
        "#for mean, stdev, param in zip(means, stds, params):\n",
        "#    print(\"%f (%f) with: %r\" % (mean, stdev, param))\n",
        "\n",
        "#output\n",
        "#Best: 0.914298 using {'batch_size': 72, 'epochs': 150, 'hidden_layers': 0, 'learn_rate': 0.001, 'neurons': 100}"
      ],
      "execution_count": 0,
      "outputs": [
        {
          "output_type": "stream",
          "text": [
            "/usr/local/lib/python3.6/dist-packages/joblib/externals/loky/process_executor.py:706: UserWarning: A worker stopped while some jobs were given to the executor. This can be caused by a too short worker timeout or by a memory leak.\n",
            "  \"timeout or by a memory leak.\", UserWarning\n"
          ],
          "name": "stderr"
        }
      ]
    },
    {
      "cell_type": "code",
      "metadata": {
        "id": "O9T2UPEZBrvZ",
        "colab_type": "code",
        "cellView": "form",
        "colab": {}
      },
      "source": [
        "#@title fit CNN with best parameters\n",
        "\n",
        "\n",
        "filepath= \"weights_final_cnn.best.hdf5\"\n",
        "checkpoint = ModelCheckpoint(filepath, monitor='val_loss', verbose=0, \n",
        "                               save_best_only=True, mode='auto')\n",
        "\n",
        "# Create the model\n",
        "model = Sequential()\n",
        "\n",
        "#convolutional and pooling layers\n",
        "model.add(Input((90, 18,1)))\n",
        "model.add(Conv2D(100, (3, 3), activation='relu'))\n",
        "model.add(MaxPooling2D((2, 2)))\n",
        "model.add(Dropout(0.3))\n",
        "model.add(Conv2D(100, (3, 3), activation='relu'))\n",
        "model.add(MaxPooling2D((2, 2)))\n",
        "model.add(Dropout(0.2))\n",
        "model.add(Dense(40, activation = 'relu'))\n",
        "model.add(Reshape((-1,40)))\n",
        "model.add(LSTM(100))\n",
        "model.add(Dense(1 , activation = \"sigmoid\"))\n",
        "model.compile(loss='binary_crossentropy', optimizer='adam', metrics = [\"acc\"])\n",
        "\n",
        "#model.add(Input((90, 18,1)))\n",
        "#model.add(Conv2D(32, (3, 3), activation='relu'))\n",
        "#model.add(MaxPooling2D((2, 2)))\n",
        "#model.add(Dropout(0.3))\n",
        "#model.add(Conv2D(32, (3, 3), activation='relu'))\n",
        "#model.add(MaxPooling2D((2, 2)))\n",
        "#model.add(Dropout(0.2))\n",
        "#model.add(Dense(40, activation = 'relu'))\n",
        "#model.add(Reshape((-1,40)))\n",
        "#model.add(LSTM(50))\n",
        "#model.add(Dense(1 , activation = \"sigmoid\"))\n",
        "#model.compile(loss='binary_crossentropy', optimizer='Adam', metrics = [\"acc\"])\n",
        "\n",
        "  \n",
        "history = model.fit(xTrain_up_s[:,:,17:].reshape(xTrain_up_s.shape[0],90,18,1),\n",
        "                    yTrain_up_s, epochs=150, batch_size=72, verbose= 1, shuffle=False,\n",
        "                    validation_data = (xVal_up_s[:,:,17:].reshape(xVal_up_s.shape[0],90,18,1),yVal_up_s), callbacks= [checkpoint])"
      ],
      "execution_count": 0,
      "outputs": []
    },
    {
      "cell_type": "code",
      "metadata": {
        "id": "lY_-9PToERPE",
        "colab_type": "code",
        "outputId": "e72accd2-2ee8-4b05-91bf-9f1bdd9f846c",
        "cellView": "form",
        "colab": {
          "base_uri": "https://localhost:8080/",
          "height": 550
        }
      },
      "source": [
        "#@title get accuracy and f1 score for cnn-lstm final model\n",
        "\n",
        "#Load weights of best model\n",
        "model.load_weights(\"weights_final_cnn.best.hdf5\")\n",
        "#Compile model \n",
        "model.compile(loss='binary_crossentropy', optimizer='Adam', metrics=['acc'])\n",
        "from sklearn.metrics import confusion_matrix,f1_score\n",
        "\n",
        "print('Train set')\n",
        "print('Evaluate on train')\n",
        "results_train_cnn = model.evaluate(xTrain_up_s[:,:,17:].reshape(xTrain_up_s.shape[0],90,18,1), yTrain_up_s)\n",
        "print('val loss, val acc:', results_train_cnn)\n",
        "\n",
        "pred_train_cnn = np.array(model.predict(xTrain_up_s[:,:,17:].reshape(xTrain_up_s.shape[0],90,18,1)).squeeze() > 0.5).astype(\"int32\")\n",
        "print('confusion matrix \\n', confusion_matrix(yTrain_up_s, pred_train_cnn))\n",
        "\n",
        "f1_train_cnn = f1_score(yTrain_up_s, pred_train_cnn)\n",
        "print('F1: ', f1_train_cnn)\n",
        "\n",
        "\n",
        "print('Validation set')\n",
        "print('Evaluate on validation')\n",
        "results_val_cnn = model.evaluate(xVal_up_s[:,:,17:].reshape(xVal_up_s.shape[0],90,18,1), yVal_up_s)\n",
        "print('val loss, val acc:', results_val_cnn)\n",
        "\n",
        "pred_val_cnn = np.array(model.predict(xVal_up_s[:,:,17:].reshape(xVal_up_s.shape[0],90,18,1)).squeeze() > 0.5).astype(\"int32\")\n",
        "print('confusion matrix \\n', confusion_matrix(yVal_up_s, pred_val_cnn))\n",
        "\n",
        "f1_val_cnn = f1_score(yVal_up_s, pred_val_cnn)\n",
        "print('F1: ', f1_val_cnn)\n",
        "\n",
        "print('Evaluate on internal test data')\n",
        "results_test_in_cnn = model.evaluate(xTestall_s[:,:,17:].reshape(xTestall_s.shape[0], 90, 18,1), yTestall_s)\n",
        "print('test loss, test acc:', results_test_in_cnn)\n",
        "\n",
        "predtest_in_cnn = np.array(model.predict(xTestall_s[:,:,17:].reshape(xTestall_s.shape[0],90,18,1)).squeeze() > 0.5).astype(\"int32\")\n",
        "print('confusion matrix \\n', confusion_matrix(yTestall_s, predtest_in_cnn))\n",
        "f1_in_cnn = f1_score(yTestall_s, predtest_in_cnn)\n",
        "print('F1: ' , f1_in_cnn)\n",
        "\n",
        "\n",
        "\n",
        "print('Evaluate on external test data')\n",
        "results_test_ex_cnn = model.evaluate(test_data_st_ex[:,:,17:].reshape(test_data_st_ex.shape[0],90,18,1), labels_test)\n",
        "print('test loss, test acc:', results_test_ex_cnn)\n",
        "\n",
        "predtest_ex_cnn = np.array(model.predict(test_data_st_ex[:,:,17:].reshape(test_data_st_ex.shape[0],90,18,1)).squeeze() > 0.5).astype(\"int32\")\n",
        "print('confusion matrix \\n', confusion_matrix(labels_test, predtest_ex_cnn))\n",
        "f1_ex_cnn= f1_score(labels_test, predtest_ex_cnn)\n",
        "print('F1: ' ,f1_ex_cnn)"
      ],
      "execution_count": 0,
      "outputs": [
        {
          "output_type": "stream",
          "text": [
            "Train set\n",
            "Evaluate on train\n",
            "71/71 [==============================] - 0s 5ms/step - loss: 0.0728 - acc: 0.9740\n",
            "val loss, val acc: [0.07277891784906387, 0.97402024269104]\n",
            "confusion matrix \n",
            " [[1677   44]\n",
            " [  15  535]]\n",
            "F1:  0.9477413640389726\n",
            "Validation set\n",
            "Evaluate on validation\n",
            "8/8 [==============================] - 0s 7ms/step - loss: 0.1207 - acc: 0.9646\n",
            "val loss, val acc: [0.12068156898021698, 0.9646017551422119]\n",
            "confusion matrix \n",
            " [[184   4]\n",
            " [  4  34]]\n",
            "F1:  0.8947368421052632\n",
            "Evaluate on internal test data\n",
            "7/7 [==============================] - 0s 8ms/step - loss: 0.1938 - acc: 0.9543\n",
            "test loss, test acc: [0.1937553435564041, 0.9543147087097168]\n",
            "confusion matrix \n",
            " [[163   4]\n",
            " [  5  25]]\n",
            "F1:  0.847457627118644\n",
            "Evaluate on external test data\n",
            "6/6 [==============================] - 0s 8ms/step - loss: 1.3083 - acc: 0.7108\n",
            "test loss, test acc: [1.3083220720291138, 0.7108433842658997]\n",
            "confusion matrix \n",
            " [[82  1]\n",
            " [47 36]]\n",
            "F1:  0.6\n"
          ],
          "name": "stdout"
        }
      ]
    },
    {
      "cell_type": "markdown",
      "metadata": {
        "id": "nX1rCcKOnQYy",
        "colab_type": "text"
      },
      "source": [
        "##Baseline Model"
      ]
    },
    {
      "cell_type": "code",
      "metadata": {
        "id": "forK2MQpf1-G",
        "colab_type": "code",
        "cellView": "form",
        "colab": {}
      },
      "source": [
        "#@title Baseline Model\n",
        "\n",
        "\n",
        "#import a random file to get the names of the auction units \n",
        "#check = pd.read_csv('01-01-05-01-02-02-22.csv') \n",
        "#names = list(check.columns)[-35:]\n",
        "#print(names)\n",
        "#ind4_r = names.index('AU06_r')\n",
        "#ind12_r = names.index('AU12_r')\n",
        "#ind4_c = names.index('AU06_c')\n",
        "#ind12_c = names.index('AU12_c')\n",
        "\n",
        "#Cheek_raiser = train_data[:,:,4]\n",
        "#Lip_corner=  train_data[:,:,8]\n",
        "\n",
        "#Tune thresholds of naive model in the training set \n",
        "\n",
        "def threshold(t_1, t_2, data_mean, labels):\n",
        "  xx=[]\n",
        "  for i in range(len(data_mean)):\n",
        "    xx.append((data_mean[i, 0]>t_1 and data_mean[i,1]>t_2).astype('int32'))\n",
        "  x = np.array(xx)  \n",
        "  Tp = sum((x== 1) & (labels ==1))\n",
        "  Fp = sum((x== 1) & (labels !=1))\n",
        "  Tn = sum((x== 0) & (labels !=1))\n",
        "  Fn = sum((x== 0) & (labels ==1))\n",
        "  #print((Tp+Fp+Tn+Fn))\n",
        "  Acc= (Tp+Tn)/(Tp+Fp+Tn+Fn)\n",
        "  p = Tp / (Tp + Fp)\n",
        "  r = Tp / (Tp + Fn)\n",
        "  f1 = 2*((p*r)/(p+r))\n",
        "  return Acc,f1\n",
        "\n",
        "def acc_f1_bas(xtrain,xtest,ytrain,ytest, binary= True):\n",
        "  if binary:\n",
        "    train_2units = xtrain[:,:,[21,25]]\n",
        "    test_2units = xtest[:,:,[21,25]]\n",
        "    aver = train_2units.mean(axis=1)\n",
        "    avertest = test_2units.mean(axis=1)\n",
        "  else:\n",
        "    train_2units = xtrain[:,:,[4,8]]\n",
        "    test_2units =  xtest[:,:,[4,8]]\n",
        "    aver = train_2units.mean(axis=1)\n",
        "    avertest = test_2units.mean(axis=1)\n",
        "\n",
        "  if aver.max()<=1:\n",
        "    t1 = np.arange(0.1,round(aver.max(),2),0.05 )\n",
        "    t2 = np.arange(0.1,round(aver.max(),2),0.05 )\n",
        "  else:\n",
        "    t1 = np.arange(0.1,round(aver.max(),2),0.1 )\n",
        "    t2 = np.arange(0.1,round(aver.max(),2),0.1 )\n",
        "\n",
        "  f1 = 0\n",
        "  for i in t1:\n",
        "    for j in t2:\n",
        "      acc_, f1_ = threshold(i,j,aver, ytrain )\n",
        "      if f1 < f1_:\n",
        "        f1 = f1_\n",
        "        t1_best = i\n",
        "        t2_best = j\n",
        "      \n",
        "  acc, f1 = threshold(t1_best , t2_best, avertest , ytest)\n",
        "\n",
        "  return acc, f1 , t1_best,t2_best\n",
        "\n",
        "\n"
      ],
      "execution_count": 0,
      "outputs": []
    },
    {
      "cell_type": "code",
      "metadata": {
        "id": "v_v9DRaCj9_a",
        "colab_type": "code",
        "cellView": "form",
        "outputId": "4b35cdac-1b6e-4bd0-9d20-207e89d71936",
        "colab": {
          "base_uri": "https://localhost:8080/",
          "height": 318
        }
      },
      "source": [
        "#@title get the acc and f1 score of baseline model for all datasets ; Make path to data\n",
        "acc_d_17_bas, f1_d_17_bas,t1d_17, t2d_17= acc_f1_bas(xTrain_d, xVal_d, yTrain_d.squeeze(), yVal_d.squeeze(), binary = False)\n",
        "acc_d_18_bas, f1_d_18_bas, t1d_18, t2d_18 = acc_f1_bas(xTrain_d, xVal_d, yTrain_d.squeeze(), yVal_d.squeeze(), binary = True)\n",
        "acc_up_17_bas, f1_up_17_bas, t1up_17, t2uo_17 = acc_f1_bas(xTrain_up, xVal_up, yTrain_up.squeeze(), yVal_up.squeeze(), binary = False)\n",
        "acc_up_18_bas, f1_up_18_bas, t1up_18, t2up_18 = acc_f1_bas(xTrain_up, xVal_up, yTrain_up.squeeze(), yVal_up.squeeze(), binary = True)\n",
        "acc_all_17_bas, f1_all_17_bas, t1all_17,t2all_17 = acc_f1_bas(xTrain, xVal, yTrain.squeeze(), yVal.squeeze(), binary = False)\n",
        "acc_all_18_bas, f1_all_18_bas, t1all_18, t2all_18 = acc_f1_bas(xTrain, xVal, yTrain.squeeze(), yVal.squeeze(), binary = True)\n",
        "\n",
        "acc_d_17_s_bas, f1_d_17_s_bas, t1d_17s, t2d_17s = acc_f1_bas(xTrain_d_s, xVal_d_s, yTrain_d_s.squeeze(), yVal_d_s.squeeze(), binary = False)\n",
        "acc_d_18_s_bas, f1_d_18_s_bas, t1d_18s, t2d_18s  = acc_f1_bas(xTrain_d_s, xVal_d_s, yTrain_d_s.squeeze(), yVal_d_s.squeeze(), binary = True)\n",
        "acc_up_17_s_bas, f1_up_17_s_bas, t1up_17s, t2uo_17s = acc_f1_bas(xTrain_up_s, xVal_up_s, yTrain_up_s.squeeze(), yVal_up_s.squeeze(), binary = False)\n",
        "acc_up_18_s_bas, f1_up_18_s_bas, t1up_18s, t2up_18s = acc_f1_bas(xTrain_up_s, xVal_up_s, yTrain_up_s.squeeze(), yVal_up_s.squeeze(), binary = True)\n",
        "acc_all_17_s_bas, f1_all_17_s_bas, t1all_17s, t2all_17s = acc_f1_bas(xTrain_s, xVal_s, yTrain_s.squeeze(), yVal_s.squeeze(), binary = False)\n",
        "acc_all_18_s_bas, f1_all_18_s_bas, t1all_18s, t2all_18s = acc_f1_bas(xTrain_s, xVal_s, yTrain_s.squeeze(), yVal_s.squeeze(), binary = True)\n",
        "\n",
        "import pandas as pd\n",
        "names_data = ['downsample_17','downsample_18', 'upsample_17', 'upsample_18', 'all_data_17', 'all_data_18', 'downsample_st_17', 'downsample_st_18', 'upsample_st_17', 'upsample_st_18', 'all_data_st_17', 'all_data_st_18' ]\n",
        "acc_data_bas = [ acc_d_17_bas, acc_d_18_bas, acc_up_17_bas, acc_up_18_bas, acc_all_17_bas, acc_all_18_bas, acc_d_17_s_bas, acc_d_18_s_bas, acc_up_17_s_bas, acc_up_18_s_bas, acc_all_17_s_bas, acc_all_18_s_bas ]\n",
        "f1_data_bas = [ f1_d_17_bas, f1_d_18_bas, f1_up_17_bas, f1_up_18_bas, f1_all_17_bas, f1_all_18_bas, f1_d_17_s_bas, f1_d_18_s_bas, f1_up_17_s_bas, f1_up_18_s_bas, f1_all_17_s_bas, f1_all_18_s_bas ]\n",
        "\n",
        "\n",
        "models_summary_bas = pd.DataFrame(list(zip(names_data,acc_data_bas,f1_data_bas)), columns = ['names','accuracy', 'f1'])\n",
        "print(models_summary_bas)\n",
        "models_summary_bas.to_csv(r'/content/drive/My Drive/thesis/data/summary_bas.csv', index = False, header=True)\n"
      ],
      "execution_count": 0,
      "outputs": [
        {
          "output_type": "stream",
          "text": [
            "/usr/local/lib/python3.6/dist-packages/ipykernel_launcher.py:13: RuntimeWarning: invalid value encountered in long_scalars\n",
            "  del sys.path[0]\n",
            "/usr/local/lib/python3.6/dist-packages/ipykernel_launcher.py:15: RuntimeWarning: invalid value encountered in double_scalars\n",
            "  from ipykernel import kernelapp as app\n"
          ],
          "name": "stderr"
        },
        {
          "output_type": "stream",
          "text": [
            "               names  accuracy        f1\n",
            "0      downsample_17  0.895425  0.783784\n",
            "1      downsample_18  0.895425  0.783784\n",
            "2        upsample_17  0.915929  0.753247\n",
            "3        upsample_18  0.946903  0.842105\n",
            "4        all_data_17  0.915929  0.753247\n",
            "5        all_data_18  0.946903  0.837838\n",
            "6   downsample_st_17  0.895425  0.771429\n",
            "7   downsample_st_18  0.901961  0.794521\n",
            "8     upsample_st_17  0.924779  0.773333\n",
            "9     upsample_st_18  0.933628  0.814815\n",
            "10    all_data_st_17  0.929204  0.783784\n",
            "11    all_data_st_18  0.942478  0.826667\n"
          ],
          "name": "stdout"
        }
      ]
    },
    {
      "cell_type": "code",
      "metadata": {
        "id": "_I9tcFpcwVon",
        "colab_type": "code",
        "cellView": "form",
        "outputId": "eda87e65-ce0e-487a-9d10-fab5fd31f1a4",
        "colab": {
          "base_uri": "https://localhost:8080/",
          "height": 105
        }
      },
      "source": [
        "#@title Get test accuracy for baseline model\n",
        "#3 upsample_18  0.946903  0.842105\n",
        "print('Threshold value for au6 and au12 :', t1up_18, t2up_18)\n",
        "print('Internal test set')\n",
        "acc_in_b, f1_in_b = threshold(t1up_18, t2up_18, xTestall[:,:,[21,25]].mean(axis=1) , yTestall.squeeze())\n",
        "print(\"Acc: \", acc_in_b, 'f1_score: ' , f1_in_b)\n",
        "\n",
        "print('External test set')\n",
        "acc_ex_b, f1_ex_b = threshold(t1up_18, t2up_18, test_data[:,:,[21,25]].mean(axis=1) , labels_test.squeeze())\n",
        "print('Acc: ', acc_ex_b,'f1_score: ', f1_ex_b)"
      ],
      "execution_count": 0,
      "outputs": [
        {
          "output_type": "stream",
          "text": [
            "Threshold value for au6 and au12 : 0.30000000000000004 0.8500000000000002\n",
            "Internal test set\n",
            "Acc:  0.9187817258883249 f1_score:  0.7500000000000001\n",
            "External test set\n",
            "Acc:  0.7831325301204819 f1_score:  0.7313432835820897\n"
          ],
          "name": "stdout"
        }
      ]
    },
    {
      "cell_type": "markdown",
      "metadata": {
        "id": "Jzhkw_uIniv_",
        "colab_type": "text"
      },
      "source": [
        "##Preprocess for Random Forest and Logistic Regression"
      ]
    },
    {
      "cell_type": "code",
      "metadata": {
        "id": "lMWSFBLLYDZm",
        "colab_type": "code",
        "cellView": "form",
        "colab": {}
      },
      "source": [
        "#@title preprocess of the 6 dif datasets for rf and lr\n",
        "def preprocess_rf(data):\n",
        "    mean_au = data.mean(axis=1)\n",
        "    min_au = data.min(axis = 1)\n",
        "    max_au = data.max(axis = 1)\n",
        "    st_au = data.std(axis = 1)\n",
        "    return([mean_au,min_au,max_au,st_au])\n",
        "xTrainall_rf, xTestall_rf, xTrain_d_rf, xVal_d_rf, downsample_tr_rf = preprocess_rf(xTrainall), preprocess_rf(xTestall), preprocess_rf(xTrain_d), preprocess_rf(xVal_d), preprocess_rf(downsample_tr)\n",
        "xTrain_up_rf, xVal_up_rf = preprocess_rf(xTrain_up), preprocess_rf(xVal_up)\n",
        "xTrain_rf, xVal_rf =  preprocess_rf(xTrain),  preprocess_rf(xVal)\n",
        "\n",
        "#standardize data\n",
        "xTrainall_s_rf, xTestall_s_rf, xTrain_d_s_rf, xVal_d_s_rf = preprocess_rf(xTrainall_s), preprocess_rf(xTestall_s), preprocess_rf(xTrain_d_s), preprocess_rf(xVal_d_s)\n",
        "xTrain_up_s_rf, xVal_up_s_rf = preprocess_rf(xTrain_up_s), preprocess_rf(xVal_up_s)\n",
        "xTrain_s_rf, xVal_s_rf =  preprocess_rf(xTrain_s),  preprocess_rf(xVal_s)"
      ],
      "execution_count": 0,
      "outputs": []
    },
    {
      "cell_type": "markdown",
      "metadata": {
        "id": "XIgYufZfnvpM",
        "colab_type": "text"
      },
      "source": [
        "##Random Forest"
      ]
    },
    {
      "cell_type": "code",
      "metadata": {
        "id": "4dp105MrcdAo",
        "colab_type": "code",
        "cellView": "form",
        "colab": {}
      },
      "source": [
        "#@title function for the acc and f1 for rf and lg\n",
        "\n",
        "\n",
        "rf = RandomForestClassifier(n_estimators = 100, random_state=4)\n",
        "lg = LogisticRegression(penalty = 'l2', solver = \"liblinear\", random_state=5)\n",
        "\n",
        "def acc_f1_rf(xtr, xval, ytr, yval, binary=True, ran_f = True):\n",
        "  if binary:\n",
        "    mean_au = xtr[0][:,17:]\n",
        "    max_au = xtr[1][:,17:]\n",
        "    min_au = xtr[2][:,17:]\n",
        "    st_au = xtr[3][:,17:]\n",
        "    xtrain = np.hstack((mean_au,min_au,max_au,st_au))\n",
        "    mean_au = xval[0][:,17:]\n",
        "    max_au = xval[1][:,17:]\n",
        "    min_au = xval[2][:,17:]\n",
        "    st_au = xval[3][:,17:]\n",
        "    xvalidation = np.hstack((mean_au,min_au,max_au,st_au))\n",
        "  else:\n",
        "    mean_au = xtr[0][:,:17]\n",
        "    max_au = xtr[1][:,:17]\n",
        "    min_au = xtr[2][:,:17]\n",
        "    st_au = xtr[3][:,:17]\n",
        "    xtrain = np.hstack((mean_au,min_au,max_au,st_au))\n",
        "    mean_au = xval[0][:,:17]\n",
        "    max_au = xval[1][:,:17]\n",
        "    min_au = xval[2][:,:17]\n",
        "    st_au = xval[3][:,:17]\n",
        "    xvalidation = np.hstack((mean_au,min_au,max_au,st_au))\n",
        "    \n",
        "  if ran_f:\n",
        "    rf.fit(xtrain,ytr)\n",
        "    acc = rf.score(xvalidation,yval)\n",
        "    f1 = f1_score(yval, rf.predict(xvalidation))\n",
        "  else:\n",
        "    lg.fit(xtrain,ytr)\n",
        "    acc = lg.score(xvalidation,yval)\n",
        "    f1 = f1_score(yval, lg.predict(xvalidation))\n",
        "  return(acc,f1)"
      ],
      "execution_count": 0,
      "outputs": []
    },
    {
      "cell_type": "code",
      "metadata": {
        "id": "4CjNMFmVHYmv",
        "colab_type": "code",
        "cellView": "form",
        "colab": {}
      },
      "source": [
        "#@title get the acc and f1 for rf\n",
        "acc_d_17_rf, f1_d_17_rf = acc_f1_rf(xTrain_d_rf, xVal_d_rf, yTrain_d.squeeze(), yVal_d.squeeze(), binary = False)\n",
        "acc_d_18_rf, f1_d_18_rf = acc_f1_rf(xTrain_d_rf, xVal_d_rf, yTrain_d.squeeze(), yVal_d.squeeze(), binary = True)\n",
        "acc_up_17_rf, f1_up_17_rf = acc_f1_rf(xTrain_up_rf, xVal_up_rf, yTrain_up.squeeze(), yVal_up.squeeze(), binary = False)\n",
        "acc_up_18_rf, f1_up_18_rf = acc_f1_rf(xTrain_up_rf, xVal_up_rf, yTrain_up.squeeze(), yVal_up.squeeze(), binary = True)\n",
        "acc_all_17_rf, f1_all_17_rf = acc_f1_rf(xTrain_rf, xVal_rf, yTrain.squeeze(), yVal.squeeze(), binary = False)\n",
        "acc_all_18_rf, f1_all_18_rf = acc_f1_rf(xTrain_rf, xVal_rf, yTrain.squeeze(), yVal.squeeze(), binary = True)\n",
        "\n",
        "acc_d_17_s_rf, f1_d_17_s_rf = acc_f1_rf(xTrain_d_s_rf, xVal_d_s_rf, yTrain_d_s.squeeze(), yVal_d_s.squeeze(), binary = False)\n",
        "acc_d_18_s_rf, f1_d_18_s_rf = acc_f1_rf(xTrain_d_s_rf, xVal_d_s_rf, yTrain_d_s.squeeze(), yVal_d_s.squeeze(), binary = True)\n",
        "acc_up_17_s_rf, f1_up_17_s_rf = acc_f1_rf(xTrain_up_s_rf, xVal_up_s_rf, yTrain_up_s.squeeze(), yVal_up_s.squeeze(), binary = False)\n",
        "acc_up_18_s_rf, f1_up_18_s_rf= acc_f1_rf(xTrain_up_s_rf, xVal_up_s_rf, yTrain_up_s.squeeze(), yVal_up_s.squeeze(), binary = True)\n",
        "acc_all_17_s_rf, f1_all_17_s_rf = acc_f1_rf(xTrain_s_rf, xVal_s_rf, yTrain_s.squeeze(), yVal_s.squeeze(), binary = False)\n",
        "acc_all_18_s_rf, f1_all_18_s_rf = acc_f1_rf(xTrain_s_rf, xVal_s_rf, yTrain_s.squeeze(), yVal_s.squeeze(), binary = True)"
      ],
      "execution_count": 0,
      "outputs": []
    },
    {
      "cell_type": "code",
      "metadata": {
        "id": "PaGt6CQVZ8dF",
        "colab_type": "code",
        "cellView": "form",
        "outputId": "0c7de1cd-0cd9-457c-ee69-b222bb5e422b",
        "colab": {
          "base_uri": "https://localhost:8080/",
          "height": 247
        }
      },
      "source": [
        "#@title table with all acc and f1 rf;preprocess rf\n",
        "\n",
        "names_data_rf = ['downsample_17','downsample_18', 'upsample_17', 'upsample_18', 'all_data_17', 'all_data_18', 'downsample_st_17', 'downsample_st_18', 'upsample_st_17', 'upsample_st_18', 'all_data_st_17', 'all_data_st_18' ]\n",
        "acc_data_rf = [ acc_d_17_rf, acc_d_18_rf, acc_up_17_rf, acc_up_18_rf, acc_all_17_rf, acc_all_18_rf, acc_d_17_s_rf, acc_d_18_s_rf, acc_up_17_s_rf, acc_up_18_s_rf, acc_all_17_s_rf, acc_all_18_s_rf ]\n",
        "f1_data_rf = [ f1_d_17_rf, f1_d_18_rf, f1_up_17_rf, f1_up_18_rf, f1_all_17_rf, f1_all_18_rf, f1_d_17_s_rf, f1_d_18_s_rf, f1_up_17_s_rf, f1_up_18_s_rf, f1_all_17_s_rf, f1_all_18_s_rf ]\n",
        "\n",
        "\n",
        "models_summary_rf = pd.DataFrame(list(zip(names_data_rf,acc_data_rf,f1_data_rf)), columns = ['names','validation accuracy', 'f1'])\n",
        "print(models_summary_rf)\n",
        "models_summary_rf.to_csv(r'/content/drive/My Drive/thesis/data/summary_rf.csv', index = False, header=True)"
      ],
      "execution_count": 0,
      "outputs": [
        {
          "output_type": "stream",
          "text": [
            "               names  validation accuracy        f1\n",
            "0      downsample_17             0.954248  0.895522\n",
            "1      downsample_18             0.934641  0.848485\n",
            "2        upsample_17             0.951327  0.840580\n",
            "3        upsample_18             0.942478  0.811594\n",
            "4        all_data_17             0.955752  0.861111\n",
            "5        all_data_18             0.938053  0.794118\n",
            "6   downsample_st_17             0.954248  0.895522\n",
            "7   downsample_st_18             0.934641  0.848485\n",
            "8     upsample_st_17             0.951327  0.840580\n",
            "9     upsample_st_18             0.942478  0.811594\n",
            "10    all_data_st_17             0.955752  0.861111\n",
            "11    all_data_st_18             0.938053  0.794118\n"
          ],
          "name": "stdout"
        }
      ]
    },
    {
      "cell_type": "code",
      "metadata": {
        "id": "hUQfDrNR1eDW",
        "colab_type": "code",
        "cellView": "form",
        "colab": {}
      },
      "source": [
        "#@title preprocess the set of downsample before splitting to train-val for cvgridsearch\n",
        "downsample_tr_rf, labels_down\n",
        "mean_au = downsample_tr_rf[0][:,:17]\n",
        "max_au = downsample_tr_rf[1][:,:17]\n",
        "min_au = downsample_tr_rf[2][:,:17]\n",
        "st_au = downsample_tr_rf[3][:,:17]\n",
        "downsample_rf = np.hstack((mean_au,min_au,max_au,st_au))\n"
      ],
      "execution_count": 0,
      "outputs": []
    },
    {
      "cell_type": "code",
      "metadata": {
        "id": "PC04wF1VosJ1",
        "colab_type": "code",
        "cellView": "form",
        "outputId": "8f7a7e95-f1aa-47b5-c8c6-fdb312021c70",
        "colab": {
          "base_uri": "https://localhost:8080/",
          "height": 212
        }
      },
      "source": [
        "#@title Gridsearch for random forest\n",
        "\n",
        "#parameter grid dictionary  \n",
        "param_grid = {\n",
        "    'n_estimators': [70,80,90,100,150, 200, 300, 1000], \n",
        "    'max_depth': [5,10,15, 100, None], 'max_features' : ['auto', 'sqrt'],\n",
        "    'min_samples_leaf': [1, 2, 4], 'min_samples_split': [2, 5, 10]\n",
        "}\n",
        "#StratifiedKFold to maintain the distribution of the classes in the folds\n",
        "#cross_validation = StratifiedKFold(n_splits=3, shuffle=True,  random_state = 2)\n",
        "#based model\n",
        "rf = RandomForestClassifier(random_state=4)\n",
        "#grid search model\n",
        "grid_search = GridSearchCV(estimator = rf, param_grid = param_grid, \n",
        "                          cv = 3, n_jobs = -1, verbose = 2, scoring='f1')\n",
        "\n",
        "# Fit the grid search to the data\n",
        "grid_search.fit(downsample_rf, labels_down.squeeze())\n",
        "\n",
        "print(\"Best: %f using %s\" % (grid_search.best_score_, grid_search.best_params_))\n",
        "#Best: 0.863672 using {'max_depth': 10, 'max_features': 'auto', 'min_samples_leaf': 1, 'min_samples_split': 2, 'n_estimators': 70}"
      ],
      "execution_count": 0,
      "outputs": [
        {
          "output_type": "stream",
          "text": [
            "Fitting 3 folds for each of 720 candidates, totalling 2160 fits\n"
          ],
          "name": "stdout"
        },
        {
          "output_type": "stream",
          "text": [
            "[Parallel(n_jobs=-1)]: Using backend LokyBackend with 2 concurrent workers.\n",
            "[Parallel(n_jobs=-1)]: Done  37 tasks      | elapsed:   20.7s\n",
            "[Parallel(n_jobs=-1)]: Done 158 tasks      | elapsed:  1.7min\n",
            "[Parallel(n_jobs=-1)]: Done 361 tasks      | elapsed:  4.0min\n",
            "[Parallel(n_jobs=-1)]: Done 644 tasks      | elapsed:  7.5min\n",
            "[Parallel(n_jobs=-1)]: Done 1009 tasks      | elapsed: 12.2min\n",
            "[Parallel(n_jobs=-1)]: Done 1454 tasks      | elapsed: 17.8min\n",
            "[Parallel(n_jobs=-1)]: Done 1981 tasks      | elapsed: 24.5min\n",
            "[Parallel(n_jobs=-1)]: Done 2160 out of 2160 | elapsed: 26.9min finished\n"
          ],
          "name": "stderr"
        },
        {
          "output_type": "stream",
          "text": [
            "Best: 0.847003 using {'max_depth': 15, 'max_features': 'auto', 'min_samples_leaf': 1, 'min_samples_split': 5, 'n_estimators': 300}\n"
          ],
          "name": "stdout"
        }
      ]
    },
    {
      "cell_type": "code",
      "metadata": {
        "id": "DbJeeaeQLj1F",
        "colab_type": "code",
        "cellView": "form",
        "colab": {}
      },
      "source": [
        "#@title preprocess of downsampled data for fitting rf with best parameters\n",
        "mean_au = xTrain_d_rf[0][:,:17]\n",
        "max_au = xTrain_d_rf[1][:,:17]\n",
        "min_au = xTrain_d_rf[2][:,:17]\n",
        "st_au = xTrain_d_rf[3][:,:17]\n",
        "train_rf = np.hstack((mean_au,min_au,max_au,st_au))\n",
        "mean_au = xVal_d_rf[0][:,:17]\n",
        "max_au = xVal_d_rf[1][:,:17]\n",
        "min_au = xVal_d_rf[2][:,:17]\n",
        "st_au = xVal_d_rf[3][:,:17]\n",
        "val_rf = np.hstack((mean_au,min_au,max_au,st_au))\n",
        "mean_au = xTestall_rf[0][:,:17]\n",
        "max_au = xTestall_rf[1][:,:17]\n",
        "min_au = xTestall_rf[2][:,:17]\n",
        "st_au = xTestall_rf[3][:,:17]\n",
        "test_rf = np.hstack((mean_au,min_au,max_au,st_au))"
      ],
      "execution_count": 0,
      "outputs": []
    },
    {
      "cell_type": "code",
      "metadata": {
        "id": "61atWB-OIaAe",
        "colab_type": "code",
        "cellView": "form",
        "outputId": "85d479fa-929b-4f45-df0d-3d45d7a5da58",
        "colab": {
          "base_uri": "https://localhost:8080/",
          "height": 230
        }
      },
      "source": [
        "#@title get final accuracy for val/tests for rf\n",
        "\n",
        "bestrf = grid_search.best_estimator_\n",
        "print('Train set ')      \n",
        "bestrf.fit(train_rf,yTrain_d.squeeze())\n",
        "acc_best_rf_tr = bestrf.score(train_rf,yTrain_d)\n",
        "f1_best_rf_tr = f1_score(yTrain_d, bestrf.predict(train_rf))\n",
        "print('Train accuracy rf: ',acc_best_rf_tr,'f1 train rf: ', f1_best_rf_tr)\n",
        "\n",
        "\n",
        "print('Validation set ')      \n",
        "bestrf.fit(train_rf,yTrain_d.squeeze())\n",
        "acc_best_rf_v = bestrf.score(val_rf,yVal_d)\n",
        "f1_best_rf_v = f1_score(yVal_d, bestrf.predict(val_rf))\n",
        "print('validation accuracy rf: ',acc_best_rf_v,'f1 validation rf: ', f1_best_rf_v)\n",
        "\n",
        "print('test set internal')\n",
        "acc_best_rf_v = bestrf.score(test_rf,yTestall)\n",
        "f1_best_rf_v = f1_score(yTestall, bestrf.predict(test_rf))\n",
        "print('Test internal accuracy: ',acc_best_rf_v,'f1 test internal: ', f1_best_rf_v)\n",
        "print(confusion_matrix(yTestall, bestrf.predict(test_rf)))\n",
        "\n",
        "print('test set external')\n",
        "#preprocess of external test set \n",
        "mean_au_extest = test_data[:,:,:17].mean(axis=1)\n",
        "min_au_extest = test_data[:,:,:17].min(axis = 1)\n",
        "max_au_extest = test_data[:,:,:17].max(axis = 1)\n",
        "st_au_extest = test_data[:,:,:17].std(axis = 1)\n",
        "xtest_ext = np.hstack((mean_au_extest,min_au_extest,max_au_extest,st_au_extest))\n",
        "\n",
        "\n",
        "acc_best_rf_v = bestrf.score(xtest_ext,labels_test)\n",
        "f1_best_rf_v = f1_score(labels_test, bestrf.predict(xtest_ext))\n",
        "print('Test external accuracy: ',acc_best_rf_v, 'f1 test external: ', f1_best_rf_v)\n",
        "print(confusion_matrix(labels_test, bestrf.predict(xtest_ext)))"
      ],
      "execution_count": 0,
      "outputs": [
        {
          "output_type": "stream",
          "text": [
            "Train set \n",
            "Train accuracy rf:  0.9978102189781022 f1 train rf:  0.9953488372093025\n",
            "Validation set \n",
            "validation accuracy rf:  0.9411764705882353 f1 validation rf:  0.816326530612245\n",
            "test set internal\n",
            "Test internal accuracy:  0.9390862944162437 f1 test internal:  0.7999999999999999\n",
            "[[161   7]\n",
            " [  5  24]]\n",
            "test set external\n",
            "Test external accuracy:  0.5843373493975904 f1 test external:  0.288659793814433\n",
            "[[83  0]\n",
            " [69 14]]\n"
          ],
          "name": "stdout"
        }
      ]
    },
    {
      "cell_type": "markdown",
      "metadata": {
        "id": "2Z5p56CBoPcj",
        "colab_type": "text"
      },
      "source": [
        "##Logistic regression"
      ]
    },
    {
      "cell_type": "code",
      "metadata": {
        "id": "-fj7qfwbPQr4",
        "colab_type": "code",
        "cellView": "form",
        "colab": {}
      },
      "source": [
        "#@title get the acc and f1 for lg for all datasets\n",
        "acc_d_17_l, f1_d_17_l = acc_f1_rf(xTrain_d_rf, xVal_d_rf, yTrain_d.squeeze(), yVal_d.squeeze(), binary = False,ran_f =False)\n",
        "acc_d_18_l, f1_d_18_l = acc_f1_rf(xTrain_d_rf, xVal_d_rf, yTrain_d.squeeze(), yVal_d.squeeze(), binary = True, ran_f = False)\n",
        "acc_up_17_l, f1_up_17_l = acc_f1_rf(xTrain_up_rf, xVal_up_rf, yTrain_up.squeeze(), yVal_up.squeeze(), binary = False, ran_f= False)\n",
        "acc_up_18_l, f1_up_18_l= acc_f1_rf(xTrain_up_rf, xVal_up_rf, yTrain_up.squeeze(), yVal_up.squeeze(), binary = True, ran_f= False)\n",
        "acc_all_17_l, f1_all_17_l = acc_f1_rf(xTrain_rf, xVal_rf, yTrain.squeeze(), yVal.squeeze(), binary = False, ran_f = False)\n",
        "acc_all_18_l, f1_all_18_l = acc_f1_rf(xTrain_rf, xVal_rf, yTrain.squeeze(), yVal.squeeze(), binary = True, ran_f = False)\n",
        "\n",
        "acc_d_17_s_l, f1_d_17_s_l = acc_f1_rf(xTrain_d_s_rf, xVal_d_s_rf, yTrain_d_s.squeeze(), yVal_d_s.squeeze(), binary = False,ran_f =False)\n",
        "acc_d_18_s_l, f1_d_18_s_l = acc_f1_rf(xTrain_d_s_rf, xVal_d_s_rf, yTrain_d_s.squeeze(), yVal_d_s.squeeze(), binary = True, ran_f = False)\n",
        "acc_up_17_s_l, f1_up_17_s_l = acc_f1_rf(xTrain_up_s_rf, xVal_up_s_rf, yTrain_up_s.squeeze(), yVal_up_s.squeeze(), binary = False, ran_f= False)\n",
        "acc_up_18_s_l, f1_up_18_s_l= acc_f1_rf(xTrain_up_s_rf, xVal_up_s_rf, yTrain_up_s.squeeze(), yVal_up_s.squeeze(), binary = True, ran_f= False)\n",
        "acc_all_17_s_l, f1_all_17_s_l = acc_f1_rf(xTrain_s_rf, xVal_s_rf, yTrain_s.squeeze(), yVal_s.squeeze(), binary = False, ran_f = False)\n",
        "acc_all_18_s_l, f1_all_18_s_l = acc_f1_rf(xTrain_s_rf, xVal_s_rf, yTrain_s.squeeze(), yVal_s.squeeze(), binary = True, ran_f = False)"
      ],
      "execution_count": 0,
      "outputs": []
    },
    {
      "cell_type": "code",
      "metadata": {
        "id": "81olIepzs9_W",
        "colab_type": "code",
        "cellView": "form",
        "colab": {}
      },
      "source": [
        "#@title table with all acc and f1 for lr\n",
        "\n",
        "names_data_rf = ['downsample_17','downsample_18', 'upsample_17', 'upsample_18', 'all_data_17', 'all_data_18', 'downsample_st_17', 'downsample_st_18', 'upsample_st_17', 'upsample_st_18', 'all_data_st_17', 'all_data_st_18' ]\n",
        "acc_data_l = [ acc_d_17_l, acc_d_18_l, acc_up_17_l, acc_up_18_l, acc_all_17_l, acc_all_18_l, acc_d_17_s_l, acc_d_18_s_l, acc_up_17_s_l, acc_up_18_s_l, acc_all_17_s_l, acc_all_18_s_l ]\n",
        "f1_data_l = [ f1_d_17_l, f1_d_18_l, f1_up_17_l, f1_up_18_l, f1_all_17_l, f1_all_18_l, f1_d_17_s_l, f1_d_18_s_l, f1_up_17_s_l, f1_up_18_s_l, f1_all_17_s_l, f1_all_18_s_l ]\n",
        "\n",
        "\n",
        "models_summary_l = pd.DataFrame(list(zip(names_data_rf,acc_data_l,f1_data_l)), columns = ['names','validation accuracy', 'f1'])\n",
        "print(models_summary_l)\n",
        "models_summary_l.to_csv(r'/content/drive/My Drive/thesis/data/summary_l.csv', index = False, header=True)"
      ],
      "execution_count": 0,
      "outputs": []
    },
    {
      "cell_type": "code",
      "metadata": {
        "id": "Bw7DjmHw_6HP",
        "colab_type": "code",
        "cellView": "form",
        "outputId": "44187e3b-922b-4f84-e241-a9cf3d6e421d",
        "colab": {
          "base_uri": "https://localhost:8080/",
          "height": 87
        }
      },
      "source": [
        "#@title gridsearch for lr \n",
        "#1      downsample_18             0.934641  0.852941\n",
        "mean_au = downsample_tr_rf[0][:,17:]\n",
        "max_au = downsample_tr_rf[1][:,17:]\n",
        "min_au = downsample_tr_rf[2][:,17:]\n",
        "st_au = downsample_tr_rf[3][:,17:]\n",
        "downsample_l = np.hstack((mean_au,min_au,max_au,st_au))\n",
        "from sklearn.model_selection import GridSearchCV, StratifiedKFold\n",
        "#parameter grid dictionary  \n",
        "param_grid = {\n",
        "     'penalty' : ['l1', 'l2'],\n",
        "    'C' :  list(range(-4,4,1)),\n",
        "    'solver' : ['liblinear']\n",
        "}\n",
        "#StratifiedKFold to maintain the distribution of the classes in the folds\n",
        "cross_validation = StratifiedKFold(n_splits=3, shuffle=True,  random_state = 2)\n",
        "#based model\n",
        "lg = LogisticRegression(random_state=5)\n",
        "\n",
        "#grid search model\n",
        "grid_search = GridSearchCV(estimator = lg, param_grid = param_grid, \n",
        "                          cv = cross_validation, n_jobs = -1, verbose = 2, scoring='f1')\n",
        "\n",
        "# Fit the grid search to the data\n",
        "grid_search.fit(downsample_l, labels_down.squeeze())\n",
        "\n",
        "print(\"Best: %f using %s\" % (grid_search.best_score_, grid_search.best_params_))\n",
        "#Best: 0.876999 using {'C': 2, 'penalty': 'l1', 'solver': 'liblinear'}"
      ],
      "execution_count": 0,
      "outputs": [
        {
          "output_type": "stream",
          "text": [
            "Fitting 3 folds for each of 16 candidates, totalling 48 fits\n"
          ],
          "name": "stdout"
        },
        {
          "output_type": "stream",
          "text": [
            "[Parallel(n_jobs=-1)]: Using backend LokyBackend with 2 concurrent workers.\n"
          ],
          "name": "stderr"
        },
        {
          "output_type": "stream",
          "text": [
            "Best: 0.876999 using {'C': 2, 'penalty': 'l1', 'solver': 'liblinear'}\n"
          ],
          "name": "stdout"
        },
        {
          "output_type": "stream",
          "text": [
            "[Parallel(n_jobs=-1)]: Done  48 out of  48 | elapsed:    1.6s finished\n"
          ],
          "name": "stderr"
        }
      ]
    },
    {
      "cell_type": "code",
      "metadata": {
        "id": "6Zt8GgpYFI2b",
        "colab_type": "code",
        "cellView": "form",
        "colab": {}
      },
      "source": [
        "#@title preprocess of downsampled data for lr\n",
        "mean_au = xTrain_d_rf[0][:,17:]\n",
        "max_au = xTrain_d_rf[1][:,17:]\n",
        "min_au = xTrain_d_rf[2][:,17:]\n",
        "st_au = xTrain_d_rf[3][:,17:]\n",
        "train_l = np.hstack((mean_au,min_au,max_au,st_au))\n",
        "mean_au = xVal_d_rf[0][:,17:]\n",
        "max_au = xVal_d_rf[1][:,17:]\n",
        "min_au = xVal_d_rf[2][:,17:]\n",
        "st_au = xVal_d_rf[3][:,17:]\n",
        "val_l = np.hstack((mean_au,min_au,max_au,st_au))\n",
        "mean_au = xTestall_rf[0][:,17:]\n",
        "max_au = xTestall_rf[1][:,17:]\n",
        "min_au = xTestall_rf[2][:,17:]\n",
        "st_au = xTestall_rf[3][:,17:]\n",
        "test_l = np.hstack((mean_au,min_au,max_au,st_au))"
      ],
      "execution_count": 0,
      "outputs": []
    },
    {
      "cell_type": "code",
      "metadata": {
        "id": "PSCWypBlEXVq",
        "colab_type": "code",
        "outputId": "1951ff31-380e-4e15-bce5-8ba3d420ed8f",
        "cellView": "form",
        "colab": {
          "base_uri": "https://localhost:8080/",
          "height": 283
        }
      },
      "source": [
        "#@title Accuracies and f1 scores for Lg for final model\n",
        "bestl = grid_search.best_estimator_\n",
        "print('train set ')\n",
        "bestl.fit(train_l,yTrain_d.squeeze())\n",
        "acc_best_l_tr = bestl.score(train_l,yTrain_d)\n",
        "f1_best_l_tr = f1_score(yTrain_d, bestl.predict(train_l))\n",
        "print('Train accuracy: ', acc_best_l_tr,'F1 train: ' ,f1_best_l_tr)\n",
        "\n",
        "print('\\nvalidation set ')\n",
        "#bestl.fit(train_l,yTrain_d.squeeze())\n",
        "acc_best_l_v = bestl.score(val_l,yVal_d)\n",
        "f1_best_l_v = f1_score(yVal_d, bestl.predict(val_l))\n",
        "print('Validation accuracy: ', acc_best_l_v,'F1 validation: ' ,f1_best_l_v)\n",
        "\n",
        "print('\\nTest set internal')\n",
        "acc_best_l_t = bestl.score(test_l,yTestall)\n",
        "f1_best_l_t = f1_score(yTestall, bestl.predict(test_l))\n",
        "print('Test internal accuracy: ', acc_best_l_t,'f1: ', f1_best_l_t)\n",
        "print(confusion_matrix(yTestall, bestl.predict(test_l)))\n",
        "\n",
        "#preprocessing for the external test data\n",
        "mean_au_extest = test_data[:,:,17:].mean(axis=1)\n",
        "min_au_extest = test_data[:,:,17:].min(axis = 1)\n",
        "max_au_extest = test_data[:,:,17:].max(axis = 1)\n",
        "st_au_extest = test_data[:,:,17:].std(axis = 1)\n",
        "xtest_ext_l = np.hstack((mean_au_extest,min_au_extest,max_au_extest,st_au_extest))\n",
        "\n",
        "print('\\nTest set external')\n",
        "acc_best_l_t = bestl.score(xtest_ext_l,labels_test)\n",
        "f1_best_l_t = f1_score(labels_test, bestl.predict(xtest_ext_l))\n",
        "print(\"Acc\",acc_best_l_t,'F1',  f1_best_l_t)\n",
        "confusion_matrix(labels_test, bestl.predict(xtest_ext_l))"
      ],
      "execution_count": 0,
      "outputs": [
        {
          "output_type": "stream",
          "text": [
            "train set \n",
            "Train accuracy:  0.9585755813953488 F1 train:  0.9079159935379645\n",
            "\n",
            "validation set \n",
            "Validation accuracy:  0.934640522875817 F1 validation:  0.8529411764705883\n",
            "\n",
            "Test set internal\n",
            "Test internal accuracy:  0.9390862944162437 f1:  0.8000000000000002\n",
            "[[161   6]\n",
            " [  6  24]]\n",
            "\n",
            "Test set external\n",
            "Acc 0.8433734939759037 F1 0.8311688311688312\n"
          ],
          "name": "stdout"
        },
        {
          "output_type": "execute_result",
          "data": {
            "text/plain": [
              "array([[76,  7],\n",
              "       [19, 64]])"
            ]
          },
          "metadata": {
            "tags": []
          },
          "execution_count": 12
        }
      ]
    },
    {
      "cell_type": "code",
      "metadata": {
        "id": "CAKgxf3wjL_r",
        "colab_type": "code",
        "cellView": "form",
        "colab": {}
      },
      "source": [
        "#@title Table for the coefficients Lg \n",
        "names_lr=['AU01_c', 'AU02_c', 'AU04_c', 'AU05_c', 'AU06_c', 'AU07_c', 'AU09_c', \n",
        "          'AU10_c', 'AU12_c', 'AU14_c', 'AU15_c', 'AU17_c', 'AU20_c', 'AU23_c',\n",
        "          'AU25_c', 'AU26_c', 'AU28_c', 'AU45_c']\n",
        "c= bestl.coef_[0].reshape(4,18)\n",
        "coef = pd.DataFrame(c,columns=names_lr, index= ['Mean', 'Minimum', 'Maximum', 'Standard Deviation'] )\n",
        "\n",
        "f= coef.iloc[:,:9]\n",
        "s= coef.iloc[:,9:]\n",
        "#with open('mytable2.tex','w') as tf:\n",
        "#    tf.write(s.to_latex())\n"
      ],
      "execution_count": 0,
      "outputs": []
    },
    {
      "cell_type": "markdown",
      "metadata": {
        "id": "yA_8UrS5oapt",
        "colab_type": "text"
      },
      "source": [
        "##Predictions in pitch data"
      ]
    },
    {
      "cell_type": "code",
      "metadata": {
        "id": "1RGP1yydILLG",
        "colab_type": "code",
        "cellView": "form",
        "outputId": "461a670e-6aea-4c26-9140-50d8e2a0f036",
        "colab": {
          "base_uri": "https://localhost:8080/",
          "height": 141
        }
      },
      "source": [
        "#@title Get the predictions on pitch and Q&A data \n",
        "#function that preprocess the data \n",
        "def prep_lg_data(x):\n",
        "  pitch_lg= []\n",
        "  for i in range(x.shape[0]):\n",
        "    per_p = []\n",
        "    for j in range(x[i].shape[0]):\n",
        "      mean_au = x[i][j,:,17:].mean(axis=0)\n",
        "      min_au = x[i][j,:,17:].min(axis = 0)\n",
        "      max_au = x[i][j,:,17:].max(axis = 0)\n",
        "      st_au = x[i][j,:,17:].std(axis = 0)\n",
        "      per_p.append(np.hstack((mean_au,min_au,max_au,st_au)))\n",
        "    pitch_lg.append(np.asanyarray(per_p))\n",
        "  return(pitch_lg)\n",
        "\n",
        "#apply the preprocess to the data \n",
        "pitch_data_lg = prep_lg_data(pitch_data)\n",
        "q_a_data_lg = prep_lg_data(q_a_data)\n",
        "\n",
        "#function that gives the prediction\n",
        "def get_pred(d, binary= True):\n",
        "  pred_pitch_lg= []\n",
        "  if binary:\n",
        "    for i in range(len(d)):\n",
        "      pred_pitch_lg.append(bestl.predict(d[i]))\n",
        "  else:\n",
        "    for i in range(len(d)):\n",
        "      pred_pitch_lg.append(bestl.predict_proba(d[i])[:,1])\n",
        "  return (pred_pitch_lg)\n",
        "\n",
        "#Get predictions 0 or 1\n",
        "pitch_pred = get_pred(pitch_data_lg)\n",
        "q_a_pred = get_pred(q_a_data_lg)\n",
        "\n",
        "#Get predictions as probabilities\n",
        "pitch_pred_p = get_pred(pitch_data_lg,False)\n",
        "q_a_pred_p = get_pred(q_a_data_lg,False)\n",
        "\n",
        "#Check if there is any pitch that does not have any \n",
        "#instance of happiness both in pitch and Q&A\n",
        "ind_1_lg = []\n",
        "for i in range(len(pitch_pred)):\n",
        "  if 1 in pitch_pred[i]:\n",
        "    ind_1_lg.append(i)\n",
        "ind_1_lg\n",
        "\n",
        "for i in range(len(pitch_pred)):\n",
        "  if i not in ind_1_lg:\n",
        "    print('pitch that does not include 1: ', format(i))\n",
        "    ind_1_lg_q = []\n",
        "for i in range(len(q_a_pred)):\n",
        "  if 1 in q_a_pred[i]:\n",
        "    ind_1_lg_q.append(i)\n",
        "\n",
        "for i in range(len(pitch_pred)):\n",
        "  if i not in ind_1_lg_q:\n",
        "    print('q&a that does not include 1: ', format(i))\n",
        "\n",
        "#get the probability of happiness for 3 pitchers\n",
        "#that I will use for visualization\n",
        "#HOTIDY\n",
        "print(q_a_pred_p[4][-1])\n",
        "#Fitpoint\n",
        "print(pitch_pred_p[5][1])\n",
        "#RecognEyes\n",
        "print(pitch_pred_p[3][1])\n",
        "\n",
        "\n",
        "print(\"number of observations\", len(pitch_pred_p))\n",
        "print('prob_1_FLIPR: ', prob_1_FLIPR)\n",
        "print('prob_1_wAIste: ', prob_1_wAIste)"
      ],
      "execution_count": 0,
      "outputs": [
        {
          "output_type": "stream",
          "text": [
            "pitch that does not include 1:  1\n",
            "q&a that does not include 1:  1\n",
            "q&a that does not include 1:  2\n",
            "q&a that does not include 1:  3\n",
            "number of observations 25\n",
            "prob_1_FLIPR:  3.135513911553851e-05\n",
            "prob_1_wAIste:  0.9996728521272098\n"
          ],
          "name": "stdout"
        }
      ]
    },
    {
      "cell_type": "code",
      "metadata": {
        "id": "YGf_R29UdfFG",
        "colab_type": "code",
        "cellView": "form",
        "colab": {}
      },
      "source": [
        "#@title Get the gender variable and see the predictions per pitcher\n",
        "#0 for male,1 for female\n",
        "gender = [0, 0, 0, 0, 0, 1, 0, 1, 1, 0, 0, 0, 0, 0, 1, 0, 0, 1, 0, 0, 0, 0, 0, 0, 0 ]\n",
        "len(gender)\n",
        "\n",
        "\n",
        "\n",
        "#see the prediction for the pitch data\n",
        "for i in range(len(pitch_pred)):\n",
        "  print('index: ',i,'gender: ', gender[i],pitch_pred[i])\n",
        "#Visualize the prediction for the q_a data\n",
        "for i in range(len(pitch_pred)):\n",
        "  print('index: ',i,'gender: ', gender[i], q_a_pred[i],)\n",
        "pitches_order = ['Little Sister', 'FLIPR', 'Bubble Pop', 'RecognEyes', 'HOTIDY', 'FitPoint', 'SOLON', 'Ziggurat', 'PREA', 'Young Boosters', 'Whitebox', 'Soccer Academy', 'StudentFood', 'HoodFood', 'wAIste', 'Choos3 Wisely', 'LockUp', 'FindIT', 'SmArt', 'Peech', 'Ar-T-ficial', 'tAIste', 'Salix', 'Recipe-Me', 'Chattern']\n"
      ],
      "execution_count": 0,
      "outputs": []
    },
    {
      "cell_type": "markdown",
      "metadata": {
        "id": "EUXeNAncohSz",
        "colab_type": "text"
      },
      "source": [
        "##T-test- First Research question"
      ]
    },
    {
      "cell_type": "code",
      "metadata": {
        "id": "zbY-qYd9SRG0",
        "colab_type": "code",
        "cellView": "form",
        "colab": {}
      },
      "source": [
        "#@title t-test\n",
        "\n",
        "\n",
        "#Delete the instance that does not have\n",
        "# any instance of hapiness in both pitch and Q&A\n",
        "del pitch_pred_p[1]\n",
        "del q_a_pred_p[1]\n",
        "#delete the  corresponding deletion from gender and probability to success as well \n",
        "del gender[1]\n",
        "scores_probsuc = np.delete(scores_probsuc,1)\n",
        "\n",
        "def calc_stat(x):\n",
        "  mean_ = []\n",
        "  min_ = []\n",
        "  max_ = []\n",
        "  st= []\n",
        "  for i in range(len(x)):\n",
        "    mean_.append(x[i].mean())\n",
        "    min_.append(x[i].min())\n",
        "    max_.append(x[i].max())\n",
        "    st.append(x[i].std())\n",
        "  return (mean_, min_, max_, st)\n",
        "  \n",
        "pitch_stat = calc_stat(pitch_pred_p)\n",
        "q_a_stat = calc_stat(q_a_pred_p)\n",
        "N= len(pitch_stat[0])\n",
        "df = 2*N - 2\n",
        "print(df)\n",
        "#t-test\n",
        "\n",
        "t_stat=[]\n",
        "p_test=[]\n",
        "for i in range(len(pitch_stat)):\n",
        "    t_stat.append(stats.ttest_rel(pitch_stat[i],q_a_stat[i])[0])\n",
        "    p_test.append(stats.ttest_rel(pitch_stat[i],q_a_stat[i])[1])\n",
        "print(t_stat)\n",
        "print(p_test)\n",
        "\n",
        "p_adjusted_bon = multipletests(p_test, alpha=.05, method='bonferroni')\n",
        "#true for hypothesis that can be rejected for given alpha\n",
        "\n",
        "p_adjusted_holm = multipletests(p_test, alpha=.05, method='holm')\n",
        "\n",
        "print(p_adjusted_bon[0])\n",
        "print(p_adjusted_bon[1])\n",
        "\n",
        "print(p_adjusted_holm[0])\n",
        "print(p_adjusted_holm[1])"
      ],
      "execution_count": 0,
      "outputs": []
    },
    {
      "cell_type": "code",
      "metadata": {
        "id": "72c1TFyDHaQX",
        "colab_type": "code",
        "cellView": "form",
        "colab": {}
      },
      "source": [
        "#@title Calculate the dif between statistics of pitch & q&a and make a dataset X_data that has inside the dif, gender and initial statistics\n",
        "mean_pitch, min_pitch, max_pitch, st_pitch = np.asarray(calc_stat(pitch_pred_p))\n",
        "mean_q_a, min_q_a, max_q_a, st_q_a = np.asarray(calc_stat(q_a_pred_p))\n",
        "\n",
        "mean_dif = (mean_pitch - mean_q_a).reshape(24,1)\n",
        "min_dif = (min_pitch - min_q_a).reshape(24,1)\n",
        "max_dif = (max_pitch - max_q_a).reshape(24,1)\n",
        "st_dif = (st_pitch - st_q_a).reshape(24,1)\n",
        "\n",
        "mean_pitch = mean_pitch.reshape(24,1)\n",
        "min_pitch = min_pitch.reshape(24,1)\n",
        "max_pitch = max_pitch.reshape(24,1)\n",
        "st_pitch = st_pitch.reshape(24,1)\n",
        "\n",
        "mean_q_a = mean_q_a.reshape(24,1)\n",
        "min_q_a = min_q_a.reshape(24,1)\n",
        "max_q_a = max_q_a.reshape(24,1)\n",
        "st_q_a = st_q_a.reshape(24,1)\n",
        "\n",
        "gen = np.array(gender).reshape(np.array(gender).shape[0],1)\n",
        "\n",
        "X_data = np.concatenate((mean_dif, min_dif, max_dif, st_dif,gen,  mean_pitch,\n",
        "                         min_pitch, max_pitch, st_pitch, mean_q_a, min_q_a,\n",
        "                         max_q_a, st_q_a), axis = 1)\n",
        "#print(mean_pitch, mean_q_a)\n",
        "\n",
        "print(mean_pitch.mean(), mean_pitch.std())\n",
        "print(mean_q_a.mean(), mean_q_a.std())"
      ],
      "execution_count": 0,
      "outputs": []
    },
    {
      "cell_type": "code",
      "metadata": {
        "id": "eTPYz5cGknl4",
        "colab_type": "code",
        "cellView": "form",
        "outputId": "442d5ece-0506-46c6-d6dc-237006b4055d",
        "colab": {
          "base_uri": "https://localhost:8080/",
          "height": 924
        }
      },
      "source": [
        "#@title plot for mean probabilities of happiness;for females and males\n",
        "\n",
        "\n",
        "#plt.title('Plot happy vs not happy for the insensity of the 17 auction units')\n",
        "X = np.arange(24)\n",
        "L = np.arange(24)\n",
        "plt.bar(X , mean_pitch.squeeze(), color = 'g', width = 0.20)\n",
        "plt.bar(L+0.25 ,mean_q_a.squeeze(), color = 'b', width = 0.20)\n",
        "plt.xticks(rotation=65)\n",
        "plt.rcParams[\"font.weight\"] = \"bold\"\n",
        "plt.rcParams[\"axes.labelweight\"] = \"bold\"\n",
        "colors = {'pitch':'green', 'Q&A':'blue'}         \n",
        "labels = list(colors.keys())\n",
        "handles = [plt.Rectangle((0,0),1,1, color=colors[label]) for label in labels]\n",
        "plt.legend(handles, labels)\n",
        "plt.ylabel('Averaged probabilities of happiness')\n",
        "plt.rc('font', family='serif', size=15)\n",
        "plt.xlabel('Pitchers')\n",
        "\n",
        "#fig = plt.gcf()\n",
        "#fig.set_size_inches(8, 6)\n",
        "#fig.savefig('mean_pitch_qa.png', dpi=80)\n",
        "\n",
        "plt.show()\n",
        "\n",
        "#plot for female pitchers\n",
        "x = np.array(gender)\n",
        "X = np.arange(5)\n",
        "L = np.arange(5)\n",
        "plt.bar(X , mean_pitch.squeeze()[np.where(x==1)], color = 'g', width = 0.20)\n",
        "plt.bar(L+0.25 ,mean_q_a.squeeze()[np.where(x==1)], color = 'b', width = 0.20)\n",
        "plt.xticks(rotation=65)\n",
        "plt.rcParams[\"font.weight\"] = \"bold\"\n",
        "plt.rcParams[\"axes.labelweight\"] = \"bold\"\n",
        "colors = {'pitch':'green', 'Q&A':'blue'}         \n",
        "labels = list(colors.keys())\n",
        "handles = [plt.Rectangle((0,0),1,1, color=colors[label]) for label in labels]\n",
        "plt.legend(handles, labels)\n",
        "plt.ylabel('Averaged probabilities of happiness')\n",
        "plt.rc('font', family='serif', size=15)\n",
        "plt.xlabel('Pitchers')\n",
        "\n",
        "#fig = plt.gcf()\n",
        "#fig.set_size_inches(8, 6)\n",
        "#fig.savefig('female pitchers.png', dpi=80)\n",
        "\n",
        "plt.show()\n",
        "\n",
        "#plot for male pitchers \n",
        "X = np.arange(19)\n",
        "L = np.arange(19)\n",
        "plt.bar(X , mean_pitch.squeeze()[np.where(x==0)], color = 'g', width = 0.20)\n",
        "plt.bar(L+0.25 ,mean_q_a.squeeze()[np.where(x==0)], color = 'b', width = 0.20)\n",
        "plt.xticks(rotation=65)\n",
        "plt.rcParams[\"font.weight\"] = \"bold\"\n",
        "plt.rcParams[\"axes.labelweight\"] = \"bold\"\n",
        "colors = {'pitch':'green', 'Q&A':'blue'}         \n",
        "labels = list(colors.keys())\n",
        "handles = [plt.Rectangle((0,0),1,1, color=colors[label]) for label in labels]\n",
        "plt.legend(handles, labels)\n",
        "plt.ylabel('Averaged probabilities of happiness')\n",
        "plt.rc('font', family='serif', size=15)\n",
        "plt.xlabel('Pitchers')\n",
        "\n",
        "#fig = plt.gcf()\n",
        "#fig.set_size_inches(8, 6)\n",
        "#fig.savefig('male pitchers.png', dpi=80)\n",
        "\n",
        "plt.show()\n"
      ],
      "execution_count": 0,
      "outputs": [
        {
          "output_type": "display_data",
          "data": {
            "image/png": "[encoded data removed]",
            "text/plain": [
              "<Figure size 432x288 with 1 Axes>"
            ]
          },
          "metadata": {
            "tags": [],
            "needs_background": "light"
          }
        },
        {
          "output_type": "display_data",
          "data": {
            "image/png": "[encoded data removed]",
            "text/plain": [
              "<Figure size 432x288 with 1 Axes>"
            ]
          },
          "metadata": {
            "tags": [],
            "needs_background": "light"
          }
        },
        {
          "output_type": "display_data",
          "data": {
            "image/png": "[encoded data removed]",
            "text/plain": [
              "<Figure size 432x288 with 1 Axes>"
            ]
          },
          "metadata": {
            "tags": [],
            "needs_background": "light"
          }
        }
      ]
    },
    {
      "cell_type": "markdown",
      "metadata": {
        "id": "u6ngRNEnoyq5",
        "colab_type": "text"
      },
      "source": [
        "##Second research question; Linear regression"
      ]
    },
    {
      "cell_type": "code",
      "metadata": {
        "id": "sFMVG-cuEyuU",
        "colab_type": "code",
        "cellView": "form",
        "colab": {}
      },
      "source": [
        "#@title standardize data and make dataframe\n",
        "\n",
        "scaler = StandardScaler()\n",
        "x_d = scaler.fit_transform(X_data)\n",
        "#hsplit(x_d,)\n",
        "x_s = np.hstack((x_d[:,:4],np.array(gender).reshape(24,1), x_d[:,5:]))\n",
        "\n",
        "\n",
        "stat_dif= pd.DataFrame(x_s[:,:5], columns = ['mean_dif', 'min_dif', 'max_dif', 'st_dif','gender'])\n",
        "stat = pd.DataFrame(x_s[:,4:], columns = ['gender', 'mean_pitch', 'min_pitch', 'max_pitch', \n",
        "                                     'st_pitch', 'mean_q_a', 'min_q_a', \n",
        "                                     'max_q_a', 'st_q_a'])\n",
        "stat['scores_probsuc']= scores_probsuc"
      ],
      "execution_count": 0,
      "outputs": []
    },
    {
      "cell_type": "code",
      "metadata": {
        "id": "gbBwsuzKOgsl",
        "colab_type": "code",
        "cellView": "form",
        "outputId": "4b2ce740-3e7e-4b7b-c875-60eb7a730a65",
        "colab": {
          "base_uri": "https://localhost:8080/",
          "height": 585
        }
      },
      "source": [
        "#@title linear regression; probability to success on gender and mean_pitch\n",
        "\n",
        "x = sm.add_constant(stat[['gender','mean_pitch']])\n",
        "model = sm.OLS(scores_probsuc, x)\n",
        "results = model.fit()\n",
        "print(results.summary())\n",
        "\n",
        "print('coefficient of determination:', results.rsquared)\n",
        "\n",
        "print('adjusted coefficient of determination:', results.rsquared_adj)\n",
        "\n",
        "print('regression coefficients:', results.params)"
      ],
      "execution_count": 0,
      "outputs": [
        {
          "output_type": "stream",
          "text": [
            "                            OLS Regression Results                            \n",
            "==============================================================================\n",
            "Dep. Variable:                      y   R-squared:                       0.173\n",
            "Model:                            OLS   Adj. R-squared:                  0.094\n",
            "Method:                 Least Squares   F-statistic:                     2.190\n",
            "Date:                Wed, 27 May 2020   Prob (F-statistic):              0.137\n",
            "Time:                        21:32:40   Log-Likelihood:                -103.83\n",
            "No. Observations:                  24   AIC:                             213.7\n",
            "Df Residuals:                      21   BIC:                             217.2\n",
            "Df Model:                           2                                         \n",
            "Covariance Type:            nonrobust                                         \n",
            "==============================================================================\n",
            "                 coef    std err          t      P>|t|      [0.025      0.975]\n",
            "------------------------------------------------------------------------------\n",
            "const         36.3788      4.512      8.063      0.000      26.996      45.761\n",
            "gender         7.3818     10.058      0.734      0.471     -13.535      28.299\n",
            "mean_pitch    -8.4539      4.085     -2.070      0.051     -16.949       0.041\n",
            "==============================================================================\n",
            "Omnibus:                        1.348   Durbin-Watson:                   2.462\n",
            "Prob(Omnibus):                  0.510   Jarque-Bera (JB):                1.007\n",
            "Skew:                           0.226   Prob(JB):                        0.605\n",
            "Kurtosis:                       2.105   Cond. No.                         2.67\n",
            "==============================================================================\n",
            "\n",
            "Warnings:\n",
            "[1] Standard Errors assume that the covariance matrix of the errors is correctly specified.\n",
            "coefficient of determination: 0.17256479553843174\n",
            "adjusted coefficient of determination: 0.09376144273256803\n",
            "regression coefficients: const         36.378786\n",
            "gender         7.381826\n",
            "mean_pitch    -8.453929\n",
            "dtype: float64\n"
          ],
          "name": "stdout"
        }
      ]
    },
    {
      "cell_type": "code",
      "metadata": {
        "id": "qVjOMgLElvwN",
        "colab_type": "code",
        "cellView": "form",
        "outputId": "df52e3cc-d728-473d-e20b-ccde2d410ff1",
        "colab": {
          "base_uri": "https://localhost:8080/",
          "height": 401
        }
      },
      "source": [
        "#@title plot for mean probability scores of happiness and probability to success \n",
        "female = stat.iloc[np.where(stat.iloc[:,0] == 1)[0]]\n",
        "male = stat.iloc[np.where(stat.iloc[:,0] == 0)[0]]\n",
        "\n",
        "plt.scatter(male[\"mean_pitch\"] , male[\"scores_probsuc\"], label = \"Male\", c = \"blue\")\n",
        "plt.scatter(female[\"mean_pitch\"] , female[\"scores_probsuc\"], label = \"Female\", c = \"red\")\n",
        "plt.legend(loc='upper right', bbox_to_anchor=(1, 1))\n",
        "plt.ylabel('probability to success')\n",
        "plt.rc('font', family='serif', size=15)\n",
        "plt.xlabel('averaged probability scores of happiness from pitch data')\n",
        "\n",
        "#plt.show()\n",
        "\n",
        "fig = plt.gcf()\n",
        "fig.set_size_inches(8, 6)\n",
        "fig.savefig('mean probability scores of happiness.png', dpi=80)"
      ],
      "execution_count": 0,
      "outputs": [
        {
          "output_type": "display_data",
          "data": {
            "image/png": "[encoded data removed]",
            "text/plain": [
              "<Figure size 576x432 with 1 Axes>"
            ]
          },
          "metadata": {
            "tags": [],
            "needs_background": "light"
          }
        }
      ]
    },
    {
      "cell_type": "code",
      "metadata": {
        "id": "Mn6w4vqBa2wV",
        "colab_type": "code",
        "cellView": "form",
        "outputId": "976a5278-e884-4c52-f989-227d2f5011fe",
        "colab": {
          "base_uri": "https://localhost:8080/",
          "height": 550
        }
      },
      "source": [
        "#@title linear regression for mean difference\n",
        "x = sm.add_constant(stat_dif[['mean_dif']])\n",
        "model = sm.OLS(scores_probsuc, x)\n",
        "results = model.fit()\n",
        "print(results.summary())\n",
        "\n",
        "print('coefficient of determination:', results.rsquared)\n",
        "\n",
        "print('adjusted coefficient of determination:', results.rsquared_adj)\n",
        "\n",
        "print('regression coefficients:', results.params)"
      ],
      "execution_count": 0,
      "outputs": [
        {
          "output_type": "stream",
          "text": [
            "                            OLS Regression Results                            \n",
            "==============================================================================\n",
            "Dep. Variable:                      y   R-squared:                       0.057\n",
            "Model:                            OLS   Adj. R-squared:                  0.015\n",
            "Method:                 Least Squares   F-statistic:                     1.340\n",
            "Date:                Wed, 27 May 2020   Prob (F-statistic):              0.260\n",
            "Time:                        21:35:08   Log-Likelihood:                -105.40\n",
            "No. Observations:                  24   AIC:                             214.8\n",
            "Df Residuals:                      22   BIC:                             217.1\n",
            "Df Model:                           1                                         \n",
            "Covariance Type:            nonrobust                                         \n",
            "==============================================================================\n",
            "                 coef    std err          t      P>|t|      [0.025      0.975]\n",
            "------------------------------------------------------------------------------\n",
            "const         37.9167      4.166      9.101      0.000      29.276      46.557\n",
            "mean_dif      -4.8222      4.166     -1.157      0.260     -13.463       3.818\n",
            "==============================================================================\n",
            "Omnibus:                        1.203   Durbin-Watson:                   2.077\n",
            "Prob(Omnibus):                  0.548   Jarque-Bera (JB):                1.022\n",
            "Skew:                           0.297   Prob(JB):                        0.600\n",
            "Kurtosis:                       2.182   Cond. No.                         1.00\n",
            "==============================================================================\n",
            "\n",
            "Warnings:\n",
            "[1] Standard Errors assume that the covariance matrix of the errors is correctly specified.\n",
            "coefficient of determination: 0.05739458343735038\n",
            "adjusted coefficient of determination: 0.014548882684502717\n",
            "regression coefficients: const       37.916667\n",
            "mean_dif    -4.822182\n",
            "dtype: float64\n"
          ],
          "name": "stdout"
        }
      ]
    },
    {
      "cell_type": "code",
      "metadata": {
        "id": "uLBCQGxpGcbq",
        "colab_type": "code",
        "cellView": "form",
        "outputId": "43dc13d5-3d4b-4713-d6e5-da99de3218c5",
        "colab": {
          "base_uri": "https://localhost:8080/",
          "height": 385
        }
      },
      "source": [
        "#@title plot of Regression fit\n",
        "\n",
        "plt.scatter(stat_dif['mean_dif'], scores_probsuc,  color='black')\n",
        "plt.plot(stat_dif['mean_dif'], results.predict(x), color='blue', linewidth=1)\n",
        "\n",
        "\n",
        "plt.ylabel('probability to success')\n",
        "plt.rc('font', family='serif', size=11)\n",
        "plt.xlabel('scores of difference in mean probabilities of happiness \\nbetween pitch and Q&A sessions')\n",
        "\n",
        "\n",
        "fig = plt.gcf()\n",
        "fig.set_size_inches(8, 5.5)\n",
        "fig.savefig('score of difference in mean probabilities of happines.png', dpi=80)\n",
        "\n",
        "#plt.show()"
      ],
      "execution_count": 0,
      "outputs": [
        {
          "output_type": "display_data",
          "data": {
            "image/png": "[encoded data removed]",
            "text/plain": [
              "<Figure size 576x396 with 1 Axes>"
            ]
          },
          "metadata": {
            "tags": [],
            "needs_background": "light"
          }
        }
      ]
    },
    {
      "cell_type": "code",
      "metadata": {
        "id": "MAqapKiKjV7R",
        "colab_type": "code",
        "cellView": "form",
        "outputId": "65f6ff4d-ec8a-4ce9-d365-a42fa281a181",
        "colab": {
          "base_uri": "https://localhost:8080/",
          "height": 842
        }
      },
      "source": [
        "#@title various plots\n",
        "plt.scatter(stat['mean_pitch'], scores_probsuc,  color='black')\n",
        "plt.plot(stat['mean_pitch'], -8.4539 * stat['mean_pitch'] + 36.3788  )\n",
        "\n",
        "plt.ylabel('probability to success')\n",
        "plt.rc('font', family='serif', size=15)\n",
        "plt.xlabel('mean probability scores of happiness')\n",
        "\n",
        "plt.show()\n",
        "\n",
        "# Plot outputs\n",
        "\n",
        "plt.scatter(stat['mean_pitch'], scores_probsuc,  color='black')\n",
        "\n",
        "\n",
        "plt.ylabel('probability to success')\n",
        "plt.rc('font', family='serif', size=15)\n",
        "plt.xlabel('mean probability scores of happiness')\n",
        "\n",
        "plt.show()\n",
        "\n",
        "# Plot outputs\n",
        "\n",
        "plt.scatter(stat['st_pitch'], scores_probsuc,  color='black')\n",
        "#plt.plot(X_data[:,5], lr.predict(X_data[:,4:13]), color='blue', linewidth=1)\n",
        "\n",
        "plt.ylabel('probability to success')\n",
        "plt.rc('font', family='serif', size=15)\n",
        "plt.xlabel('sd of probability scores of happiness')\n",
        "\n",
        "plt.show()"
      ],
      "execution_count": 0,
      "outputs": [
        {
          "output_type": "display_data",
          "data": {
            "image/png": "[encoded data removed]",
            "text/plain": [
              "<Figure size 432x288 with 1 Axes>"
            ]
          },
          "metadata": {
            "tags": [],
            "needs_background": "light"
          }
        },
        {
          "output_type": "display_data",
          "data": {
            "image/png": "[encoded data removed]",
            "text/plain": [
              "<Figure size 432x288 with 1 Axes>"
            ]
          },
          "metadata": {
            "tags": [],
            "needs_background": "light"
          }
        },
        {
          "output_type": "display_data",
          "data": {
            "image/png": "[encoded data removed]",
            "text/plain": [
              "<Figure size 432x288 with 1 Axes>"
            ]
          },
          "metadata": {
            "tags": [],
            "needs_background": "light"
          }
        }
      ]
    }
  ]
}